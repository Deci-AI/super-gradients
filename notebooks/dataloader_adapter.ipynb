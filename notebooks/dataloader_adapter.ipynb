{
 "nbformat": 4,
 "nbformat_minor": 0,
 "metadata": {
  "colab": {
   "provenance": []
  },
  "kernelspec": {
   "name": "python3",
   "display_name": "Python 3"
  },
  "language_info": {
   "name": "python"
  }
 },
 "cells": [
  {
   "cell_type": "markdown",
   "source": [
    "# Introduction\n",
    "\n",
    "With diverse dataset structures available, ensuring compatibility with SuperGradients (SG) can be challenging. This is where the DataloaderAdapter plays a pivotal role. This tutorial takes you through the importance, implementation, and advantages of using the DataloaderAdapter with SG."
   ],
   "metadata": {
    "id": "maykjDsh7d2x",
    "pycharm": {
     "name": "#%% md\n"
    }
   }
  },
  {
   "cell_type": "markdown",
   "source": [
    "### Why Dataset Adapter?\n",
    "\n",
    "Datasets come in a myriad of structures. However, SG requires data in a specific format.\n",
    "\n",
    "For instance, consider the Object Detection Format:\n",
    "\n",
    "Image format should be: (BS, H, W, C) i.e., channel last.\n",
    "Targets should be in the format: (BS, 6), where 6 represents (sample_id, class_id, label, cx, cy, w, h).\n",
    "The overhead of adjusting each dataset manually can be cumbersome. Enter DataloaderAdapter – designed to automatically understand your dataset structure and mold it for SG compatibility."
   ],
   "metadata": {
    "id": "rYLVw---7mgu",
    "pycharm": {
     "name": "#%% md\n"
    }
   }
  },
  {
   "cell_type": "code",
   "source": [
    "!pip install data-gradients==0.2.1 gwpy &> /dev/null\n",
    "!pip install super-gradients==3.3.1 gwpy &> /dev/null\n",
    "!pip freeze gwpy &> /dev/null"
   ],
   "metadata": {
    "id": "0puCRQGZSP8r",
    "pycharm": {
     "name": "#%%\n"
    }
   },
   "execution_count": 1,
   "outputs": []
  },
  {
   "cell_type": "markdown",
   "source": [
    "### Why Do We Need the Dataset Adapter?\n",
    "\n",
    "While Datasets come in various structures and formats, SG expects data in a specific format to be able to run.\n",
    "\n",
    "\n",
    "> Example: Object Detection Format\n",
    "> - Image format: (BS, H, W, C) i.e. channel last\n",
    "> - Targets format: (BS, 6) where 6 represents (sample_id, class_id, label, cx, > cy, w, h).\n",
    "\n",
    "\n",
    "This means that you should either use one of SuperGradient's built-in Dataset class if it supports your dataset structure, or, if your dataset is too custom for it, inherit from SG datasets and bring all the required changes.\n",
    "\n",
    "While this is all right in most cases, it can be cumbersome when you just want to quickly experiment with a new dataset.\n",
    "\n",
    "To reduce this overhead, SuperGradients introduced the concept of `DataloaderAdapter`. Instead of requiring you to write all the transformations required to use SG, the `DataloaderAdapter` will infer anything possible directly from your data. Whenever something cannot be inferred with 100% confidence, you will be asked a question with all the required context for you to properly answer.\n",
    "\n",
    "Let's see this in practice with an example. Let's start with `SBDataset` dataset"
   ],
   "metadata": {
    "id": "VWKtR3sOfRuB",
    "pycharm": {
     "name": "#%% md\n"
    }
   }
  },
  {
   "cell_type": "markdown",
   "source": [
    "# Exemple 1 - Segmentation Adapter on `SBDataset` Dataset\n",
    "\n",
    "In this section, we'll walk through the process of preparing the `SBDataset` dataset for use in SuperGradients. We'll highlight the challenges and demonstrate how the Adapter can simplify the process.\n",
    "\n",
    "\n",
    "1. Preparing the Dataset without Adapter"
   ],
   "metadata": {
    "id": "dvbJpo5Z7w6n",
    "pycharm": {
     "name": "#%% md\n"
    }
   }
  },
  {
   "cell_type": "code",
   "source": [
    "from torchvision.datasets import SBDataset\n",
    "\n",
    "try:\n",
    "  # There is a bug with `torchvision.datasets.SBDataset` that raises RuntimeError after downloading, so we just ignore it\n",
    "  SBDataset(root=\"data\", mode='segmentation', download=True)\n",
    "except RuntimeError:\n",
    "  pass"
   ],
   "metadata": {
    "colab": {
     "base_uri": "https://localhost:8080/",
     "height": 0
    },
    "id": "BHg2-CiFTcx9",
    "outputId": "e9f87da8-a806-4e76-ff61-cc627159abfb",
    "pycharm": {
     "name": "#%%\n"
    }
   },
   "execution_count": 2,
   "outputs": [
    {
     "output_type": "stream",
     "name": "stdout",
     "text": [
      "Downloading https://www2.eecs.berkeley.edu/Research/Projects/CS/vision/grouping/semantic_contours/benchmark.tgz to data/benchmark.tgz\n"
     ]
    },
    {
     "output_type": "stream",
     "name": "stderr",
     "text": [
      "100%|██████████| 1419539633/1419539633 [00:32<00:00, 43301819.66it/s]\n"
     ]
    },
    {
     "output_type": "stream",
     "name": "stdout",
     "text": [
      "Extracting data/benchmark.tgz to data\n",
      "Downloading https://www.cs.cornell.edu/~bharathh/ to data/train_noval.txt\n"
     ]
    },
    {
     "output_type": "stream",
     "name": "stderr",
     "text": [
      "20563it [00:00, 1012436.88it/s]\n"
     ]
    }
   ]
  },
  {
   "cell_type": "code",
   "execution_count": 3,
   "metadata": {
    "id": "oGHI8LgZSIiz",
    "pycharm": {
     "name": "#%%\n"
    }
   },
   "outputs": [],
   "source": [
    "from torchvision.transforms import Compose, ToTensor, Resize, InterpolationMode\n",
    "\n",
    "\n",
    "transforms = Compose([ToTensor(), Resize((512, 512), InterpolationMode.NEAREST)])\n",
    "def sample_transform(image, mask):\n",
    "  return transforms(image), transforms(mask)\n",
    "\n",
    "train_set = SBDataset(root=\"data\", mode='segmentation', download=False, transforms=sample_transform)"
   ]
  },
  {
   "cell_type": "markdown",
   "source": [
    "Now let's see what we get when instantiating a `Dataloader`"
   ],
   "metadata": {
    "id": "SEuJd57v8ELj",
    "pycharm": {
     "name": "#%% md\n"
    }
   }
  },
  {
   "cell_type": "code",
   "source": [
    "from torch.utils.data import DataLoader\n",
    "\n",
    "train_loader = DataLoader(train_set, batch_size=20, shuffle=True)\n",
    "_images, labels = next(iter(train_loader))\n",
    "\n",
    "labels.unique()"
   ],
   "metadata": {
    "colab": {
     "base_uri": "https://localhost:8080/",
     "height": 0
    },
    "id": "AnJJNCSr8DUW",
    "outputId": "a2b33113-3780-4c68-d010-e41437662825",
    "pycharm": {
     "name": "#%%\n"
    }
   },
   "execution_count": 4,
   "outputs": [
    {
     "output_type": "execute_result",
     "data": {
      "text/plain": [
       "tensor([0.0000, 0.0118, 0.0157, 0.0196, 0.0235, 0.0275, 0.0353, 0.0431, 0.0471,\n",
       "        0.0549, 0.0588, 0.0627, 0.0706, 0.0745, 0.0784])"
      ]
     },
     "metadata": {},
     "execution_count": 4
    }
   ]
  },
  {
   "cell_type": "markdown",
   "source": [
    "As you can see, the labels are normalized (0-1). This is all right, but it is not the format expected by SuperGradients.\n",
    "\n",
    "Let's now see how the Adapter helps.\n",
    "\n",
    "2. Introducing Adapter\n",
    "\n",
    "The Adapter helps us skip manual data preparations and dives right into creating a dataloader that SuperGradients expects."
   ],
   "metadata": {
    "id": "Ex4-AmV474Nl",
    "pycharm": {
     "name": "#%% md\n"
    }
   }
  },
  {
   "cell_type": "code",
   "source": [
    "from super_gradients.training.dataloaders.adapters import SegmentationDataloaderAdapterFactory\n",
    "\n",
    "train_loader = SegmentationDataloaderAdapterFactory.from_dataset(dataset=train_set, batch_size=20, shuffle=True, config_path='local_cache.json')\n",
    "\n",
    "_images, labels = next(iter(train_loader))\n",
    "labels.unique()"
   ],
   "metadata": {
    "id": "BVDBTQd_FZMe",
    "colab": {
     "base_uri": "https://localhost:8080/",
     "height": 0
    },
    "outputId": "6c5c8bc8-0c41-47bc-f6d8-8be0854b1ce0",
    "pycharm": {
     "name": "#%%\n"
    }
   },
   "execution_count": 6,
   "outputs": [
    {
     "output_type": "stream",
     "name": "stderr",
     "text": [
      "[2023-10-29 15:25:36] INFO - data_config.py - Cache deactivated for `SegmentationDataConfig`.\n"
     ]
    },
    {
     "output_type": "stream",
     "name": "stdout",
     "text": [
      "\n",
      "--------------------------------------------------------------------------------\n",
      "\u001B[33;1mHow many classes does your dataset include?\u001B[0m\n",
      "--------------------------------------------------------------------------------\n",
      "\n",
      "Enter your response >>> 21\n",
      "Great! \u001B[33;1mYou chose: `21`\u001B[0m\n",
      "\n",
      "--------------------------------------------------------------------------------\n",
      "\u001B[33;1mDoes your dataset provide a batch or a single sample?\u001B[0m\n",
      "--------------------------------------------------------------------------------\n",
      "    - Image shape: torch.Size([3, 512, 512])\n",
      "    - Mask shape:  torch.Size([1, 512, 512])\n",
      "\u001B[34;1mOptions\u001B[0m:\n",
      "[\u001B[34;1m0\u001B[0m] | Batch of Samples (e.g. torch Dataloader)\n",
      "[\u001B[34;1m1\u001B[0m] | Single Sample (e.g. torch Dataset)\n",
      "\n",
      "Your selection (Enter the \u001B[34;1mcorresponding number\u001B[0m) >>> 1\n",
      "Great! \u001B[33;1mYou chose: `Single Sample (e.g. torch Dataset)`\u001B[0m\n",
      "\n",
      "--------------------------------------------------------------------------------\n",
      "\u001B[33;1mIn which format are your images loaded ?\u001B[0m\n",
      "--------------------------------------------------------------------------------\n",
      "\n",
      "\u001B[34;1mOptions\u001B[0m:\n",
      "[\u001B[34;1m0\u001B[0m] | RGB\n",
      "[\u001B[34;1m1\u001B[0m] | BGR\n",
      "[\u001B[34;1m2\u001B[0m] | LAB\n",
      "[\u001B[34;1m3\u001B[0m] | Other\n",
      "\n",
      "Your selection (Enter the \u001B[34;1mcorresponding number\u001B[0m) >>> 0\n",
      "Great! \u001B[33;1mYou chose: `RGB`\u001B[0m\n"
     ]
    },
    {
     "output_type": "execute_result",
     "data": {
      "text/plain": [
       "tensor([ 0,  1,  2,  3,  4,  7,  8,  9, 12, 13, 15, 16, 18, 19, 20])"
      ]
     },
     "metadata": {},
     "execution_count": 6
    }
   ]
  },
  {
   "cell_type": "markdown",
   "source": [
    "You can see that the mask is now encoded as `int`, which is the representation used in SuperGradients.\n",
    "\n",
    "It's important to note that the dataset adapter also support different dataset format such as one hot, ensuring that the output (`labels` here) is in the right format to use within SuperGradients."
   ],
   "metadata": {
    "id": "yMnGHW1kCO2h",
    "pycharm": {
     "name": "#%% md\n"
    }
   }
  },
  {
   "cell_type": "markdown",
   "source": [
    "## Example II - Detection Adapter on a Dictionary based Dataset\n",
    "\n",
    "Some datasets return a more complex data structure than the previous example.\n",
    "\n",
    "For instance, the `COCO` dataset implementation from `pytorch` returns a list of dictionaries representing the labels.\n",
    "\n",
    "Let's have a look:\n"
   ],
   "metadata": {
    "id": "-sEjb4d6jqIK",
    "pycharm": {
     "name": "#%% md\n"
    }
   }
  },
  {
   "cell_type": "code",
   "source": [
    "# Download the zip file\n",
    "!wget https://deci-pretrained-models.s3.amazonaws.com/coco2017_small.zip\n",
    "\n",
    "# Unzip the downloaded file\n",
    "!unzip coco2017_small.zip > /dev/null"
   ],
   "metadata": {
    "id": "7nb2DFNhbHff",
    "colab": {
     "base_uri": "https://localhost:8080/",
     "height": 0
    },
    "outputId": "8a049844-1881-4f0d-d6a7-be37cac5e447",
    "pycharm": {
     "name": "#%%\n"
    }
   },
   "execution_count": 7,
   "outputs": [
    {
     "output_type": "stream",
     "name": "stdout",
     "text": [
      "--2023-10-29 15:27:31--  https://deci-pretrained-models.s3.amazonaws.com/coco2017_small.zip\n",
      "Resolving deci-pretrained-models.s3.amazonaws.com (deci-pretrained-models.s3.amazonaws.com)... 54.231.134.129, 52.217.71.68, 52.217.138.65, ...\n",
      "Connecting to deci-pretrained-models.s3.amazonaws.com (deci-pretrained-models.s3.amazonaws.com)|54.231.134.129|:443... connected.\n",
      "HTTP request sent, awaiting response... 200 OK\n",
      "Length: 246116231 (235M) [application/zip]\n",
      "Saving to: ‘coco2017_small.zip’\n",
      "\n",
      "coco2017_small.zip  100%[===================>] 234.71M  38.7MB/s    in 6.7s    \n",
      "\n",
      "2023-10-29 15:27:38 (34.9 MB/s) - ‘coco2017_small.zip’ saved [246116231/246116231]\n",
      "\n"
     ]
    }
   ]
  },
  {
   "cell_type": "code",
   "source": [
    "from torchvision.datasets import CocoDetection\n",
    "from torchvision.transforms import Compose, ToTensor, Resize, InterpolationMode\n",
    "from torchvision.datasets import SBDataset\n",
    "\n",
    "\n",
    "image_transform = Compose([ToTensor(), Resize((512, 512))])\n",
    "\n",
    "train_set = CocoDetection(root='coco2017_small/images/train2017', annFile='coco2017_small/annotations/instances_train2017.json', transform=image_transform)\n",
    "train_set = CocoDetection(root='coco2017_small/images/val2017', annFile='coco2017_small/annotations/instances_val2017.json', transform=image_transform)\n",
    "image, targets = next(iter(train_set))"
   ],
   "metadata": {
    "colab": {
     "base_uri": "https://localhost:8080/",
     "height": 0
    },
    "id": "k8ox8EbVbxVU",
    "outputId": "b6700dec-c7c6-40be-d04b-a38e207dc347",
    "pycharm": {
     "name": "#%%\n"
    }
   },
   "execution_count": 8,
   "outputs": [
    {
     "output_type": "stream",
     "name": "stdout",
     "text": [
      "loading annotations into memory...\n",
      "Done (t=0.10s)\n",
      "creating index...\n",
      "index created!\n",
      "loading annotations into memory...\n",
      "Done (t=0.05s)\n",
      "creating index...\n",
      "index created!\n"
     ]
    }
   ]
  },
  {
   "cell_type": "code",
   "source": [
    "print(f\"Number of targets: {len(targets)}, First target structure: {targets[0]}\")"
   ],
   "metadata": {
    "id": "BhuJfMHM9g-a",
    "pycharm": {
     "name": "#%%\n"
    }
   },
   "execution_count": 9,
   "outputs": []
  },
  {
   "cell_type": "markdown",
   "source": [
    "Observe the dataset output's nested dictionary structure? This complicates things for the Dataset Adapter as it's unsure which fields detail the bounding box.\n",
    "\n",
    "To solve this, we utilize an extractor function.\n",
    "\n",
    "#### The Extractor's Role\n",
    "\n",
    "Simply put, the extractor translates your dataset's output into a format the Adapter understands. For our dataset, it will take the image and annotations, then return the bounding box data, including the label and coordinates.\n",
    "\n",
    "Worried about bounding box format like `xyxy_label` or `label_xywh`? Don't be. The Adapter is designed to recognize them.\n",
    "\n",
    "> For further guidance on extractor functions, see the [official documentation](https://github.com/Deci-AI/data-gradients/blob/master/documentation/dataset_extractors.md)."
   ],
   "metadata": {
    "id": "VKWqK2OwdbS9",
    "pycharm": {
     "name": "#%% md\n"
    }
   }
  },
  {
   "cell_type": "code",
   "source": [
    "import torch\n",
    "\n",
    "def coco_labels_extractor(sample) -> torch.Tensor:\n",
    "    _, annotations = sample # annotations = [{\"bbox\": [1.08, 187.69, 611.59, 285.84], \"category_id\": 51}, ...]\n",
    "    labels = []\n",
    "    for annotation in annotations:\n",
    "        class_id = annotation[\"category_id\"]\n",
    "        bbox = annotation[\"bbox\"]\n",
    "        labels.append((class_id, *bbox))\n",
    "    return torch.Tensor(labels) # torch.Tensor([[51, 1.08, 187.69, 611.59, 285.84], ...])\n",
    "\n",
    "coco_labels_extractor(sample=next(iter(train_set)))"
   ],
   "metadata": {
    "colab": {
     "base_uri": "https://localhost:8080/",
     "height": 0
    },
    "id": "JkmopVSocq9e",
    "outputId": "6e633a3d-a632-4642-ef4d-3698b221516d",
    "pycharm": {
     "name": "#%%\n"
    }
   },
   "execution_count": 10,
   "outputs": [
    {
     "output_type": "execute_result",
     "data": {
      "text/plain": [
       "tensor([[ 64.0000, 236.9800, 142.5100,  24.7000,  69.5000],\n",
       "        [ 72.0000,   7.0300, 167.7600, 149.3200,  94.8700],\n",
       "        [ 72.0000, 557.2100, 209.1900,  81.3500,  78.7300],\n",
       "        [ 62.0000, 358.9800, 218.0500,  56.0000, 102.8300],\n",
       "        [ 62.0000, 290.6900, 218.0000,  61.8300,  98.4800],\n",
       "        [ 62.0000, 413.2000, 223.0100,  30.1700,  81.3600],\n",
       "        [ 62.0000, 317.4000, 219.2400,  21.5800,  11.5900],\n",
       "        [  1.0000, 412.8000, 157.6100,  53.0500, 138.0100],\n",
       "        [  1.0000, 384.4300, 172.2100,  15.1200,  35.7400],\n",
       "        [ 78.0000, 512.2200, 205.7500,  14.7400,  15.9700],\n",
       "        [ 82.0000, 493.1000, 174.3400,  20.2900, 108.3100],\n",
       "        [ 84.0000, 604.7700, 305.8900,  14.3400,  45.7100],\n",
       "        [ 84.0000, 613.2400, 308.2400,  12.8800,  46.4400],\n",
       "        [ 85.0000, 447.7700, 121.1200,  13.9700,  21.8800],\n",
       "        [ 86.0000, 549.0600, 309.4300,  36.6800,  89.6700],\n",
       "        [ 86.0000, 350.7600, 208.8400,  11.3700,  22.5500],\n",
       "        [ 62.0000, 412.2500, 219.0200,   9.6300,  12.5200],\n",
       "        [ 86.0000, 241.2400, 194.9900,  14.2200,  17.6300],\n",
       "        [ 86.0000, 336.7900, 199.5000,   9.7300,  16.7300],\n",
       "        [ 67.0000, 321.2100, 231.2200, 125.5600,  88.9300]])"
      ]
     },
     "metadata": {},
     "execution_count": 10
    }
   ]
  },
  {
   "cell_type": "markdown",
   "source": [
    "This output is all you need to get started. Now we can use the Dataloader Adapters!"
   ],
   "metadata": {
    "id": "vz97TRpZj451",
    "pycharm": {
     "name": "#%% md\n"
    }
   }
  },
  {
   "cell_type": "code",
   "source": [
    "from super_gradients.training.dataloaders.adapters import DetectionDataloaderAdapterFactory\n",
    "from data_gradients.dataset_adapters.config.data_config import DetectionDataConfig\n",
    "\n",
    "\n",
    "adapter_config = DetectionDataConfig(labels_extractor=coco_labels_extractor, cache_path=\"coco_adapter_cache.json\")\n",
    "train_loader = DetectionDataloaderAdapterFactory.from_dataset(\n",
    "    dataset=train_set,\n",
    "    config=adapter_config,\n",
    "    batch_size=5,\n",
    "    drop_last=True,\n",
    ")\n",
    "val_loader = DetectionDataloaderAdapterFactory.from_dataset(\n",
    "    dataset=train_set,\n",
    "    config=adapter_config,\n",
    "    batch_size=5,\n",
    "    drop_last=True,\n",
    ")"
   ],
   "metadata": {
    "colab": {
     "base_uri": "https://localhost:8080/",
     "height": 0
    },
    "id": "5cOJAT81ZfhO",
    "outputId": "eb36c68b-a7fa-49a5-f5ba-f8b9aaab1e63",
    "pycharm": {
     "name": "#%%\n"
    }
   },
   "execution_count": 11,
   "outputs": [
    {
     "output_type": "stream",
     "name": "stderr",
     "text": [
      "/usr/local/lib/python3.10/dist-packages/torchvision/transforms/functional.py:1603: UserWarning: The default value of the antialias parameter of all the resizing transforms (Resize(), RandomResizedCrop(), etc.) will change from None to True in v0.17, in order to be consistent across the PIL and Tensor backends. To suppress this warning, directly pass antialias=True (recommended, future default), antialias=None (current default, which means False for Tensors and True for PIL), or antialias=False (only works on Tensors - PIL will still use antialiasing). This also applies if you are using the inference transforms from the models weights: update the call to weights.transforms(antialias=True).\n",
      "  warnings.warn(\n",
      "[2023-10-29 15:27:41] INFO - data_config.py - Cache deactivated for `DetectionDataConfig`.\n",
      "[2023-10-29 15:27:41] INFO - detection_adapter_collate_fn.py - You are using Detection Adapter. Please note that it was designed specifically for YOLONAS, YOLOX and PPYOLOE.\n"
     ]
    },
    {
     "name": "stdout",
     "output_type": "stream",
     "text": [
      "Number of targets: 20, First target structure: {'segmentation': [[240.86, 211.31, 240.16, 197.19, 236.98, 192.26, 237.34, 187.67, 245.8, 188.02, 243.33, 176.02, 250.39, 186.96, 251.8, 166.85, 255.33, 142.51, 253.21, 190.49, 261.68, 183.08, 258.86, 191.2, 260.98, 206.37, 254.63, 199.66, 252.51, 201.78, 251.8, 212.01]], 'area': 531.8071000000001, 'iscrowd': 0, 'image_id': 139, 'bbox': [236.98, 142.51, 24.7, 69.5], 'category_id': 64, 'id': 26547}\n",
      "\n",
      "--------------------------------------------------------------------------------\n",
      "\u001B[33;1mHow many classes does your dataset include?\u001B[0m\n",
      "--------------------------------------------------------------------------------\n",
      "\n",
      "Enter your response >>> 80\n",
      "Great! \u001B[33;1mYou chose: `80`\u001B[0m\n",
      "\n",
      "--------------------------------------------------------------------------------\n",
      "\u001B[33;1mIn which format are your images loaded ?\u001B[0m\n",
      "--------------------------------------------------------------------------------\n",
      "\n",
      "\u001B[34;1mOptions\u001B[0m:\n",
      "[\u001B[34;1m0\u001B[0m] | RGB\n",
      "[\u001B[34;1m1\u001B[0m] | BGR\n",
      "[\u001B[34;1m2\u001B[0m] | LAB\n",
      "[\u001B[34;1m3\u001B[0m] | Other\n",
      "\n",
      "Your selection (Enter the \u001B[34;1mcorresponding number\u001B[0m) >>> 0\n",
      "Great! \u001B[33;1mYou chose: `RGB`\u001B[0m\n",
      "\n",
      "--------------------------------------------------------------------------------\n",
      "\u001B[33;1m\u001B[33;1mWhich comes first\u001B[0m in your annotations, the class id or the bounding box?\u001B[0m\n",
      "--------------------------------------------------------------------------------\n",
      "Here's a sample of how your labels look like:\n",
      "Each line corresponds to a bounding box.\n",
      "tensor([[ 64.0000, 236.9800, 142.5100,  24.7000,  69.5000],\n",
      "        [ 72.0000,   7.0300, 167.7600, 149.3200,  94.8700],\n",
      "        [ 72.0000, 557.2100, 209.1900,  81.3500,  78.7300],\n",
      "        [ 62.0000, 358.9800, 218.0500,  56.0000, 102.8300]])\n",
      "\u001B[34;1mOptions\u001B[0m:\n",
      "[\u001B[34;1m0\u001B[0m] | Label comes first (e.g. [class_id, x1, y1, x2, y2])\n",
      "[\u001B[34;1m1\u001B[0m] | Bounding box comes first (e.g. [x1, y1, x2, y2, class_id])\n",
      "\n",
      "Your selection (Enter the \u001B[34;1mcorresponding number\u001B[0m) >>> 0\n",
      "Great! \u001B[33;1mYou chose: `Label comes first (e.g. [class_id, x1, y1, x2, y2])`\u001B[0m\n",
      "\n",
      "--------------------------------------------------------------------------------\n",
      "\u001B[33;1mWhat is the \u001B[33;1mbounding box format\u001B[0m?\u001B[0m\n",
      "--------------------------------------------------------------------------------\n",
      "Here's a sample of how your labels look like:\n",
      "Each line corresponds to a bounding box.\n",
      "tensor([[ 64.0000, 236.9800, 142.5100,  24.7000,  69.5000],\n",
      "        [ 72.0000,   7.0300, 167.7600, 149.3200,  94.8700],\n",
      "        [ 72.0000, 557.2100, 209.1900,  81.3500,  78.7300],\n",
      "        [ 62.0000, 358.9800, 218.0500,  56.0000, 102.8300]])\n",
      "\u001B[34;1mOptions\u001B[0m:\n",
      "[\u001B[34;1m0\u001B[0m] | xyxy: x-left, y-top, x-right, y-bottom\t\t(Pascal-VOC format)\n",
      "[\u001B[34;1m1\u001B[0m] | xywh: x-left, y-top, width, height\t\t\t(COCO format)\n",
      "[\u001B[34;1m2\u001B[0m] | cxcywh: x-center, y-center, width, height\t\t(YOLO format)\n",
      "\n",
      "Your selection (Enter the \u001B[34;1mcorresponding number\u001B[0m) >>> 1\n"
     ]
    },
    {
     "output_type": "stream",
     "name": "stderr",
     "text": [
      "[2023-10-29 15:28:40] INFO - detection_adapter_collate_fn.py - You are using Detection Adapter. Please note that it was designed specifically for YOLONAS, YOLOX and PPYOLOE.\n"
     ]
    }
   ]
  },
  {
   "cell_type": "code",
   "source": [
    "_image, targets = next(iter(train_loader))"
   ],
   "metadata": {
    "id": "m1S8n5YzgOKM",
    "pycharm": {
     "name": "#%%\n"
    }
   },
   "execution_count": 13,
   "outputs": []
  },
  {
   "cell_type": "code",
   "source": [
    "targets.shape # [N, 6] format with 6 representing (sample_id, class_id, cx, cy, w, h)"
   ],
   "metadata": {
    "colab": {
     "base_uri": "https://localhost:8080/",
     "height": 0
    },
    "id": "cZSHNPUXXXg7",
    "outputId": "1f289c68-8d14-4290-9823-a4b98114368a",
    "pycharm": {
     "name": "#%%\n"
    }
   },
   "execution_count": 14,
   "outputs": [
    {
     "output_type": "execute_result",
     "data": {
      "text/plain": [
       "torch.Size([22, 6])"
      ]
     },
     "metadata": {},
     "execution_count": 14
    }
   ]
  },
  {
   "cell_type": "code",
   "source": [
    "targets[:3]"
   ],
   "metadata": {
    "colab": {
     "base_uri": "https://localhost:8080/",
     "height": 0
    },
    "id": "-8ZUmPGRgdSB",
    "outputId": "27f57dbf-ad65-4374-e9ae-f8065f488990",
    "pycharm": {
     "name": "#%%\n"
    }
   },
   "execution_count": 16,
   "outputs": [
    {
     "output_type": "execute_result",
     "data": {
      "text/plain": [
       "tensor([[  0.0000,  64.0000, 249.3300, 177.2600,  24.7000,  69.5000],\n",
       "        [  0.0000,  72.0000,  81.6900, 215.1950, 149.3200,  94.8700],\n",
       "        [  0.0000,  72.0000, 597.8850, 248.5550,  81.3500,  78.7300]])"
      ]
     },
     "metadata": {},
     "execution_count": 16
    }
   ]
  },
  {
   "cell_type": "markdown",
   "source": [
    "# III. Use your Adapted Dataloader to train a model"
   ],
   "metadata": {
    "id": "k6mRrkgF_zL7",
    "pycharm": {
     "name": "#%% md\n"
    }
   }
  },
  {
   "cell_type": "markdown",
   "source": [
    "Now that we have an adapter for a detection dataset, let's use it to launch a training of YoloNAS on it!\n",
    "\n",
    "This is of course for the sake of the example, since YoloNAS was originally trained using the SuperGradients implementation of COCO Dataset. You can replace the `COCO` dataset with any of your dataset."
   ],
   "metadata": {
    "id": "_B5WQlBwgjdu",
    "pycharm": {
     "name": "#%% md\n"
    }
   }
  },
  {
   "cell_type": "code",
   "source": [
    "from omegaconf import OmegaConf\n",
    "from hydra.utils import instantiate\n",
    "\n",
    "from super_gradients import Trainer\n",
    "from super_gradients.training import models\n",
    "from super_gradients.common.object_names import Models\n",
    "from super_gradients.training import training_hyperparams\n",
    "from super_gradients.common.environment.cfg_utils import load_recipe\n",
    "\n",
    "\n",
    "trainer = Trainer(experiment_name=\"yolonas_training_with_adapter\", ckpt_root_dir=\"./\")\n",
    "model = models.get(model_name=Models.YOLO_NAS_S, num_classes=adapter_config.n_classes, pretrained_weights=\"coco\")\n",
    "\n",
    "yolonas_recipe = load_recipe(config_name=\"coco2017_yolo_nas_s\", overrides=[f\"arch_params.num_classes={adapter_config.n_classes}\", \"training_hyperparams.max_epochs=1\", \"training_hyperparams.mixed_precision=False\"])\n",
    "yolonas_recipe = OmegaConf.to_container(instantiate(yolonas_recipe))\n",
    "training_params = yolonas_recipe['training_hyperparams']\n",
    "\n",
    "trainer.train(model=model, training_params=training_params, train_loader=train_loader, valid_loader=val_loader)"
   ],
   "metadata": {
    "colab": {
     "base_uri": "https://localhost:8080/",
     "height": 0
    },
    "id": "EKvvqGvQC_k0",
    "outputId": "5241db21-4bff-4ef3-c808-a8dab7636bec",
    "pycharm": {
     "name": "#%%\n"
    }
   },
   "execution_count": 17,
   "outputs": [
    {
     "output_type": "stream",
     "name": "stderr",
     "text": [
      "[2023-10-29 15:29:42] INFO - checkpoint_utils.py - License Notification: YOLO-NAS pre-trained weights are subjected to the specific license terms and conditions detailed in \n",
      "https://github.com/Deci-AI/super-gradients/blob/master/LICENSE.YOLONAS.md\n",
      "By downloading the pre-trained weight files you agree to comply with these terms.\n",
      "Downloading: \"https://sghub.deci.ai/models/yolo_nas_s_coco.pth\" to /root/.cache/torch/hub/checkpoints/yolo_nas_s_coco.pth\n",
      "100%|██████████| 73.1M/73.1M [00:00<00:00, 81.0MB/s]\n",
      "[2023-10-29 15:29:43] INFO - checkpoint_utils.py - Successfully loaded pretrained weights for architecture yolo_nas_s\n",
      "[2023-10-29 15:29:44] INFO - sg_trainer.py - Starting a new run with `run_id=RUN_20231029_152944_310569`\n",
      "[2023-10-29 15:29:44] INFO - sg_trainer.py - Checkpoints directory: ./yolonas_training_with_adapter/RUN_20231029_152944_310569\n",
      "[2023-10-29 15:29:44] INFO - sg_trainer.py - Using EMA with params {'decay': 0.9997, 'decay_type': 'threshold', 'beta': 15}\n"
     ]
    },
    {
     "output_type": "stream",
     "name": "stdout",
     "text": [
      "The console stream is now moved to ./yolonas_training_with_adapter/RUN_20231029_152944_310569/console_Oct29_15_29_44.txt\n"
     ]
    },
    {
     "output_type": "stream",
     "name": "stderr",
     "text": [
      "[2023-10-29 15:29:45] WARNING - callbacks.py - Number of warmup steps (1000) is greater than number of steps in epoch (100). Warmup steps will be capped to number of steps in epoch to avoid interfering with any pre-epoch LR schedulers.\n",
      "/usr/local/lib/python3.10/dist-packages/torchvision/transforms/functional.py:1603: UserWarning: The default value of the antialias parameter of all the resizing transforms (Resize(), RandomResizedCrop(), etc.) will change from None to True in v0.17, in order to be consistent across the PIL and Tensor backends. To suppress this warning, directly pass antialias=True (recommended, future default), antialias=None (current default, which means False for Tensors and True for PIL), or antialias=False (only works on Tensors - PIL will still use antialiasing). This also applies if you are using the inference transforms from the models weights: update the call to weights.transforms(antialias=True).\n",
      "  warnings.warn(\n",
      "/usr/local/lib/python3.10/dist-packages/super_gradients/training/utils/collate_fn/detection_collate_fn.py:29: UserWarning: To copy construct from a tensor, it is recommended to use sourceTensor.clone().detach() or sourceTensor.clone().detach().requires_grad_(True), rather than torch.tensor(sourceTensor).\n",
      "  images_batch = [torch.tensor(img) for img in images_batch]\n",
      "/usr/local/lib/python3.10/dist-packages/super_gradients/training/utils/collate_fn/detection_collate_fn.py:43: UserWarning: To copy construct from a tensor, it is recommended to use sourceTensor.clone().detach() or sourceTensor.clone().detach().requires_grad_(True), rather than torch.tensor(sourceTensor).\n",
      "  labels_batch = [torch.tensor(labels) for labels in labels_batch]\n",
      "[2023-10-29 15:29:45] INFO - sg_trainer_utils.py - TRAINING PARAMETERS:\n",
      "    - Mode:                         Single GPU\n",
      "    - Number of GPUs:               0          (0 available on the machine)\n",
      "    - Full dataset size:            500        (len(train_set))\n",
      "    - Batch size per GPU:           5          (batch_size)\n",
      "    - Batch Accumulate:             1          (batch_accumulate)\n",
      "    - Total batch size:             5          (num_gpus * batch_size)\n",
      "    - Effective Batch size:         5          (num_gpus * batch_size * batch_accumulate)\n",
      "    - Iterations per epoch:         100        (len(train_loader))\n",
      "    - Gradient updates per epoch:   100        (len(train_loader) / batch_accumulate)\n",
      "\n",
      "[2023-10-29 15:29:45] INFO - sg_trainer.py - Started training for 1 epochs (0/0)\n",
      "\n",
      "Train epoch 0: 100%|██████████| 100/100 [20:18<00:00, 12.18s/it, PPYoloELoss/loss=4, PPYoloELoss/loss_cls=1.72, PPYoloELoss/loss_dfl=2.2, PPYoloELoss/loss_iou=0.472, gpu_mem=0]\n",
      "Validating: 100%|██████████| 100/100 [06:34<00:00,  3.94s/it]\n",
      "[2023-10-29 15:56:43] INFO - base_sg_logger.py - Checkpoint saved in ./yolonas_training_with_adapter/RUN_20231029_152944_310569/ckpt_best.pth\n",
      "[2023-10-29 15:56:43] INFO - sg_trainer.py - Best checkpoint overriden: validation mAP@0.50:0.95: 0.0005365016404539347\n"
     ]
    },
    {
     "output_type": "stream",
     "name": "stdout",
     "text": [
      "===========================================================\n",
      "SUMMARY OF EPOCH 0\n",
      "├── Train\n",
      "│   ├── Ppyoloeloss/loss_cls = 1.7168\n",
      "│   ├── Ppyoloeloss/loss_iou = 0.4717\n",
      "│   ├── Ppyoloeloss/loss_dfl = 2.2035\n",
      "│   └── Ppyoloeloss/loss = 3.9977\n",
      "└── Validation\n",
      "    ├── Ppyoloeloss/loss_cls = 2.4528\n",
      "    ├── Ppyoloeloss/loss_iou = 0.5016\n",
      "    ├── Ppyoloeloss/loss_dfl = 2.2003\n",
      "    ├── Ppyoloeloss/loss = 4.807\n",
      "    ├── Precision@0.50:0.95 = 0.0052\n",
      "    ├── Recall@0.50:0.95 = 0.007\n",
      "    ├── Map@0.50:0.95 = 0.0005\n",
      "    └── F1@0.50:0.95 = 0.0007\n",
      "\n",
      "===========================================================\n"
     ]
    },
    {
     "output_type": "stream",
     "name": "stderr",
     "text": [
      "[2023-10-29 15:56:45] INFO - sg_trainer.py - RUNNING ADDITIONAL TEST ON THE AVERAGED MODEL...\n",
      "Validating epoch 1: 100%|██████████| 100/100 [06:33<00:00,  3.93s/it]\n"
     ]
    }
   ]
  },
  {
   "cell_type": "markdown",
   "source": [
    "# IV. Dig deeper into the Adapter\n",
    "\n",
    "By default, any parameter that could not be confidently infered will trigger a question.\n",
    "\n",
    "But you have the possibility to set these parameters in advance through the config object. In the previous example we had to set `labels_extractor` explicitly. Now let's set all the parameters"
   ],
   "metadata": {
    "id": "JWUsWehVmowy",
    "pycharm": {
     "name": "#%% md\n"
    }
   }
  },
  {
   "cell_type": "code",
   "source": [
    "from super_gradients.training.dataloaders.adapters import DetectionDataloaderAdapterFactory\n",
    "from data_gradients.dataset_adapters.config.data_config import DetectionDataConfig\n",
    "from data_gradients.utils.data_classes.image_channels import ImageChannels\n",
    "class_names = [category['name'] for category in train_set.coco.loadCats(train_set.coco.getCatIds())]\n",
    "\n",
    "adapter_config = DetectionDataConfig(\n",
    "    labels_extractor=coco_labels_extractor,\n",
    "    is_label_first=True,\n",
    "    class_names=class_names,\n",
    "    image_channels=ImageChannels.from_str(\"RGB\"),\n",
    "    xyxy_converter='xywh',\n",
    "    cache_path=\"coco_adapter_cache_with_default.json\"\n",
    ")"
   ],
   "metadata": {
    "id": "wsV8JpBJmyIH",
    "pycharm": {
     "name": "#%%\n"
    }
   },
   "execution_count": 21,
   "outputs": []
  },
  {
   "cell_type": "markdown",
   "source": [
    "This can now be used and you don't need to answer any question"
   ],
   "metadata": {
    "id": "__YWkBVas6Yp",
    "pycharm": {
     "name": "#%% md\n"
    }
   }
  },
  {
   "cell_type": "code",
   "source": [
    "train_loader = DetectionDataloaderAdapterFactory.from_dataset(\n",
    "    dataset=train_set,\n",
    "    config=adapter_config,\n",
    "    batch_size=5,\n",
    "    drop_last=True,\n",
    ")\n",
    "val_loader = DetectionDataloaderAdapterFactory.from_dataset(\n",
    "    dataset=train_set,\n",
    "    config=adapter_config,\n",
    "    batch_size=5,\n",
    "    drop_last=True,\n",
    ")\n",
    "\n",
    "_image, targets = next(iter(train_loader))\n",
    "\n",
    "print(targets.shape) # [N, 6] format with 6 representing (sample_id, class_id, cx, cy, w, h)"
   ],
   "metadata": {
    "id": "uZDZg14InB3U",
    "colab": {
     "base_uri": "https://localhost:8080/"
    },
    "outputId": "5572d6d3-fade-489b-cccd-963c2e443551",
    "pycharm": {
     "name": "#%%\n"
    }
   },
   "execution_count": 22,
   "outputs": [
    {
     "output_type": "stream",
     "name": "stderr",
     "text": [
      "[2023-10-29 16:15:09] INFO - detection_adapter_collate_fn.py - You are using Detection Adapter. Please note that it was designed specifically for YOLONAS, YOLOX and PPYOLOE.\n",
      "/usr/local/lib/python3.10/dist-packages/torchvision/transforms/functional.py:1603: UserWarning: The default value of the antialias parameter of all the resizing transforms (Resize(), RandomResizedCrop(), etc.) will change from None to True in v0.17, in order to be consistent across the PIL and Tensor backends. To suppress this warning, directly pass antialias=True (recommended, future default), antialias=None (current default, which means False for Tensors and True for PIL), or antialias=False (only works on Tensors - PIL will still use antialiasing). This also applies if you are using the inference transforms from the models weights: update the call to weights.transforms(antialias=True).\n",
      "  warnings.warn(\n",
      "[2023-10-29 16:15:09] INFO - detection_adapter_collate_fn.py - You are using Detection Adapter. Please note that it was designed specifically for YOLONAS, YOLOX and PPYOLOE.\n",
      "/usr/local/lib/python3.10/dist-packages/super_gradients/training/utils/collate_fn/detection_collate_fn.py:29: UserWarning: To copy construct from a tensor, it is recommended to use sourceTensor.clone().detach() or sourceTensor.clone().detach().requires_grad_(True), rather than torch.tensor(sourceTensor).\n",
      "  images_batch = [torch.tensor(img) for img in images_batch]\n",
      "/usr/local/lib/python3.10/dist-packages/super_gradients/training/utils/collate_fn/detection_collate_fn.py:43: UserWarning: To copy construct from a tensor, it is recommended to use sourceTensor.clone().detach() or sourceTensor.clone().detach().requires_grad_(True), rather than torch.tensor(sourceTensor).\n",
      "  labels_batch = [torch.tensor(labels) for labels in labels_batch]\n"
     ]
    }
   ]
  },
  {
   "cell_type": "markdown",
   "source": [
    "### Load from existing cache\n",
    "\n",
    "You can use the cache of an adapter you already used in the past. This will allow you skip the questions that were already asked in the previous run."
   ],
   "metadata": {
    "id": "otTI_sVxtxvf",
    "pycharm": {
     "name": "#%% md\n"
    }
   }
  },
  {
   "cell_type": "code",
   "source": [
    "# The new config will load the answer from questions asked in the previous run.\n",
    "adapter_config = DetectionDataConfig(\n",
    "    labels_extractor=coco_labels_extractor,\n",
    "    cache_path=\"coco_adapter_cache_with_default.json\" # Name of the previous cache\n",
    ")\n",
    "\n",
    "train_loader = DetectionDataloaderAdapterFactory.from_dataset(\n",
    "    dataset=train_set,\n",
    "    config=adapter_config,\n",
    "    batch_size=5,\n",
    "    drop_last=True,\n",
    ")\n",
    "val_loader = DetectionDataloaderAdapterFactory.from_dataset(\n",
    "    dataset=train_set,\n",
    "    config=adapter_config,\n",
    "    batch_size=5,\n",
    "    drop_last=True,\n",
    ")\n",
    "\n",
    "_image, targets = next(iter(train_loader))"
   ],
   "metadata": {
    "id": "y3I00k-2svd3",
    "pycharm": {
     "name": "#%%\n"
    }
   },
   "execution_count": 23,
   "outputs": []
  },
  {
   "cell_type": "code",
   "source": [
    "targets.shape # [N, 6] format with 6 representing (sample_id, class_id, cx, cy, w, h)"
   ],
   "metadata": {
    "id": "988EZEJpU3bf",
    "colab": {
     "base_uri": "https://localhost:8080/"
    },
    "outputId": "951389ce-fc86-419e-b052-af5b0868ff77",
    "pycharm": {
     "name": "#%%\n"
    }
   },
   "execution_count": 24,
   "outputs": [
    {
     "output_type": "execute_result",
     "data": {
      "text/plain": [
       "torch.Size([22, 6])"
      ]
     },
     "metadata": {},
     "execution_count": 24
    }
   ]
  },
  {
   "cell_type": "markdown",
   "source": [
    "As you can see, no question was asked and we still get the targets adapted into the SuperGradients format."
   ],
   "metadata": {
    "id": "1Fw4yhwkuK7w",
    "pycharm": {
     "name": "#%% md\n"
    }
   }
  }
 ]
}
