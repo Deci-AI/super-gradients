{
 "cells": [
  {
   "cell_type": "markdown",
   "metadata": {
    "id": "I99TT1EjKCSQ"
   },
   "source": [
    "<img src='https://raw.githubusercontent.com/Deci-AI/super-gradients/master/documentation/assets/SG_img/SG%20-%20Horizontal%20Glow.png'>\n",
    "\n",
    "# Quantization Aware Training YoloNAS on Custom Dataset\n",
    "\n",
    "\n",
    "\n",
    "**Background**: Our research team developed a new deep learning architecture that competes with YOLOv8 using our efficient AutoNAC algorithm.\n",
    "The new model, named YoloNAS, incorporates quantization-aware RepVGG blocks into the model architecture to ensure compatibility with Post-Training Quantization, making it more flexible and usable for different hardware configurations.\n",
    "\n",
    "\n",
    "In this tutorial, we will demonstrate how to fine-tune the small variant of the YoloNAS, YoloNAS_S on a custom dataset from Hugging Face hub.\n",
    "\n",
    "0. Installations and dataset setup.\n",
    "1. Initialize train and validation dataloaders.\n",
    "2. Define training hyper-parameters.\n",
    "3. Instantiate a pre-trained YoloNAS_S model and launch training.\n",
    "4. Run prediction on a real world input.\n",
    "5. Load the best checkpoint from 3., perform post-training quantization and quantization-aware training.\n",
    "\n",
    "\n",
    "Prerequisites:\n",
    "- QAT/PTQ tutorials: [classification notebook](https://github.com/Deci-AI/super-gradients/blob/master/tutorials/PTQ_and_QAT_for_classification.ipynb), [Thorough tutorial](https://github.com/Deci-AI/super-gradients/blob/master/documentation/source/ptq_qat.md)\n",
    "- Training object detection models in SG: [Transfer learning notebook](https://bit.ly/3SkMohx).\n",
    "\n",
    "It is also recommended to see the QAT/PTQ [tutorial](https://www.google.com/url?sa=t&rct=j&q=&esrc=s&source=web&cd=&cad=rja&uact=8&ved=2ahUKEwj125-xvIv_AhVZhP0HHWQnCZYQFnoECBYQAQ&url=https%3A%2F%2Fwww.nvidia.com%2Fen-us%2Fon-demand%2Fsession%2Fgtcspring21-s31653%2F&usg=AOvVaw1i_93iFvK5HJDm_5-SXyMN) from NVidia."
   ]
  },
  {
   "cell_type": "markdown",
   "metadata": {
    "id": "95oO2b0BP1yK"
   },
   "source": [
    "# Installations"
   ]
  },
  {
   "cell_type": "code",
   "execution_count": 1,
   "outputs": [],
   "source": [
    "!pip install -qq super-gradients==3.6.1 pytorch-quantization==2.1.2 datasets[vision]~=2.1 pandas~=2.0 --extra-index-url https://pypi.ngc.nvidia.com"
   ],
   "metadata": {
    "collapsed": false,
    "ExecuteTime": {
     "end_time": "2024-03-07T10:08:07.501970800Z",
     "start_time": "2024-03-07T10:08:02.221936700Z"
    }
   }
  },
  {
   "cell_type": "markdown",
   "source": [
    "# Dataset Setup"
   ],
   "metadata": {
    "collapsed": false
   }
  },
  {
   "cell_type": "code",
   "execution_count": 2,
   "outputs": [],
   "source": [
    "from datasets import load_dataset\n",
    "\n",
    "dataset = load_dataset(\"cppe-5\")"
   ],
   "metadata": {
    "collapsed": false,
    "ExecuteTime": {
     "end_time": "2024-03-07T10:08:15.971545600Z",
     "start_time": "2024-03-07T10:08:07.504089200Z"
    }
   }
  },
  {
   "cell_type": "code",
   "execution_count": 3,
   "outputs": [],
   "source": [
    "CLASS_NAMES = dataset[\"train\"].features[\"objects\"].feature[\"category\"].names\n",
    "NUM_CLASSES = len(CLASS_NAMES)"
   ],
   "metadata": {
    "collapsed": false,
    "ExecuteTime": {
     "end_time": "2024-03-07T10:08:16.004871200Z",
     "start_time": "2024-03-07T10:08:15.976952200Z"
    }
   }
  },
  {
   "cell_type": "code",
   "execution_count": 4,
   "outputs": [
    {
     "name": "stderr",
     "output_type": "stream",
     "text": [
      "100%|██████████| 1000/1000 [00:53<00:00, 18.60it/s]\n",
      "100%|██████████| 29/29 [00:00<00:00, 31.55it/s]\n"
     ]
    }
   ],
   "source": [
    "from tqdm import tqdm\n",
    "import cv2\n",
    "import json\n",
    "import os\n",
    "\n",
    "\n",
    "def convert_hf_to_coco(dataset_split, output_images_directory, output_annotation_json):\n",
    "    class_names = dataset[\"train\"].features[\"objects\"].feature[\"category\"].names\n",
    "\n",
    "    coco_annotation = {\n",
    "        \"images\": [],\n",
    "        \"annotations\": [],\n",
    "        \"categories\": [{\"supercategory\": name, \"name\": name, \"id\": category_id} for category_id, name in\n",
    "                       enumerate(class_names)],\n",
    "    }\n",
    "\n",
    "    os.makedirs(output_images_directory, exist_ok=True)\n",
    "\n",
    "    annotation_id = 1\n",
    "\n",
    "    for sample in tqdm(dataset_split):\n",
    "        image_id = sample[\"image_id\"]\n",
    "        image = np.array(sample[\"image\"])\n",
    "\n",
    "        objects = sample[\"objects\"]\n",
    "        areas = objects[\"area\"]\n",
    "        bboxes = objects[\"bbox\"]  # XYWH\n",
    "        category_ids = objects[\"category\"]\n",
    "\n",
    "        for object_area, object_bbox, object_category in zip(areas, bboxes, category_ids):\n",
    "            coco_annotation[\"annotations\"].append(\n",
    "                {\n",
    "                    \"id\": annotation_id,\n",
    "                    \"category_id\": object_category,\n",
    "                    \"area\": float(object_area),\n",
    "                    \"iscrowd\": 0,\n",
    "                    \"image_id\": image_id,\n",
    "                    \"bbox\": list(map(int, object_bbox)),\n",
    "                }\n",
    "            )\n",
    "            annotation_id += 1\n",
    "\n",
    "        filename = f\"{image_id}.jpg\"\n",
    "        output_image_path = os.path.join(output_images_directory, filename)\n",
    "        cv2.imwrite(output_image_path, image[..., ::-1])  # RGB to BGR\n",
    "\n",
    "        coco_annotation[\"images\"].append(\n",
    "            {\"file_name\": filename, \"height\": image.shape[0], \"width\": image.shape[1], \"id\": image_id})\n",
    "\n",
    "    with open(output_annotation_json, \"w\") as f:\n",
    "        json.dump(coco_annotation, f)\n",
    "\n",
    "\n",
    "convert_hf_to_coco(dataset[\"train\"], \"cppe-5-coco/images/train\", \"cppe-5-coco/train_annotations.coco.json\")\n",
    "convert_hf_to_coco(dataset[\"test\"], \"cppe-5-coco/images/valid\", \"cppe-5-coco/valid_annotations.coco.json\")"
   ],
   "metadata": {
    "collapsed": false,
    "ExecuteTime": {
     "end_time": "2024-03-07T10:09:10.953211600Z",
     "start_time": "2024-03-07T10:08:16.000867900Z"
    }
   }
  },
  {
   "cell_type": "markdown",
   "metadata": {
    "id": "cU9U1IaEerqX"
   },
   "source": [
    "# Setup train and validation datasets\n",
    "\n",
    "Next, we instantiate torch DataLoader objects, one for training and one for validation which will be used for training our model.\n"
   ]
  },
  {
   "cell_type": "code",
   "execution_count": 5,
   "metadata": {
    "id": "fBZenZegj9hm",
    "ExecuteTime": {
     "end_time": "2024-03-07T10:09:29.437901400Z",
     "start_time": "2024-03-07T10:09:10.957638300Z"
    }
   },
   "outputs": [],
   "source": [
    "from super_gradients.training.datasets.detection_datasets.coco_format_detection import COCOFormatDetectionDataset\n",
    "from super_gradients.training.transforms.transforms import (\n",
    "    DetectionRandomAffine,\n",
    "    DetectionHSV,\n",
    "    DetectionHorizontalFlip,\n",
    "    DetectionPaddedRescale,\n",
    "    DetectionStandardize,\n",
    "    DetectionTargetsFormatTransform,\n",
    ")\n",
    "from super_gradients.training.utils.collate_fn import DetectionCollateFN\n",
    "\n",
    "train_dataset_params = dict(\n",
    "    data_dir=\"cppe-5-coco\",\n",
    "    images_dir=\"images/train\",\n",
    "    json_annotation_file=\"train_annotations.coco.json\",\n",
    "    input_dim=(640, 640),\n",
    "    ignore_empty_annotations=False,\n",
    "    with_crowd=False,\n",
    "    all_classes_list=CLASS_NAMES,\n",
    "    transforms=[\n",
    "        DetectionRandomAffine(degrees=0.0, scales=(0.5, 1.5), shear=0.0, target_size=(640, 640),\n",
    "                              filter_box_candidates=False, border_value=128),\n",
    "        DetectionHSV(prob=1.0, hgain=5, vgain=30, sgain=30),\n",
    "        DetectionHorizontalFlip(prob=0.5),\n",
    "        DetectionPaddedRescale(input_dim=(640, 640)),\n",
    "        DetectionStandardize(max_value=255),\n",
    "        DetectionTargetsFormatTransform(input_dim=(640, 640), output_format=\"LABEL_CXCYWH\"),\n",
    "    ],\n",
    ")\n",
    "\n",
    "valid_dataset_params = dict(\n",
    "    data_dir=\"cppe-5-coco\",\n",
    "    images_dir=\"images/valid\",\n",
    "    json_annotation_file=\"valid_annotations.coco.json\",\n",
    "    input_dim=(640, 640),\n",
    "    ignore_empty_annotations=False,\n",
    "    with_crowd=False,\n",
    "    all_classes_list=CLASS_NAMES,\n",
    "    transforms=[\n",
    "        DetectionPaddedRescale(input_dim=(640, 640), max_targets=300),\n",
    "        DetectionStandardize(max_value=255),\n",
    "        DetectionTargetsFormatTransform(input_dim=(640, 640), output_format=\"LABEL_CXCYWH\"),\n",
    "    ],\n",
    ")\n",
    "\n",
    "trainset = COCOFormatDetectionDataset(**train_dataset_params)\n",
    "valset = COCOFormatDetectionDataset(**valid_dataset_params)"
   ]
  },
  {
   "cell_type": "code",
   "execution_count": 6,
   "outputs": [],
   "source": [
    "from torch.utils.data import DataLoader\n",
    "\n",
    "NUM_WORKERS = 0\n",
    "BATCH_SIZE = 16\n",
    "\n",
    "train_dataloader_params = {\n",
    "    \"shuffle\": True,\n",
    "    \"batch_size\": BATCH_SIZE,\n",
    "    \"drop_last\": True,\n",
    "    \"pin_memory\": True,\n",
    "    \"collate_fn\": DetectionCollateFN(),\n",
    "    \"num_workers\": NUM_WORKERS,\n",
    "    \"persistent_workers\": NUM_WORKERS > 0,\n",
    "}\n",
    "\n",
    "val_dataloader_params = {\n",
    "    \"shuffle\": False,\n",
    "    \"batch_size\": BATCH_SIZE,\n",
    "    \"drop_last\": False,\n",
    "    \"pin_memory\": True,\n",
    "    \"collate_fn\": DetectionCollateFN(),\n",
    "    \"num_workers\": NUM_WORKERS,\n",
    "    \"persistent_workers\": NUM_WORKERS > 0,\n",
    "}\n",
    "\n",
    "train_loader = DataLoader(trainset, **train_dataloader_params)\n",
    "valid_loader = DataLoader(valset, **val_dataloader_params)"
   ],
   "metadata": {
    "collapsed": false,
    "ExecuteTime": {
     "end_time": "2024-03-07T10:09:29.441901400Z",
     "start_time": "2024-03-07T10:09:29.049049800Z"
    }
   }
  },
  {
   "cell_type": "markdown",
   "metadata": {
    "id": "yXYK9EXGQr-e"
   },
   "source": [
    "# Defining training hyperparameters"
   ]
  },
  {
   "cell_type": "code",
   "execution_count": 7,
   "metadata": {
    "id": "tiOOevCvy3qx",
    "ExecuteTime": {
     "end_time": "2024-03-07T10:09:29.444905600Z",
     "start_time": "2024-03-07T10:09:29.049049800Z"
    }
   },
   "outputs": [
    {
     "name": "stderr",
     "output_type": "stream",
     "text": [
      "Indexing dataset annotations: 100%|██████████| 1000/1000 [00:00<00:00, 7505.89it/s]\n",
      "Indexing dataset annotations: 100%|██████████| 29/29 [00:00<00:00, 7250.09it/s]\n"
     ]
    }
   ],
   "source": [
    "from super_gradients.training.losses import PPYoloELoss\n",
    "from super_gradients.training.metrics import DetectionMetrics_050\n",
    "from super_gradients.training.models.detection_models.pp_yolo_e import PPYoloEPostPredictionCallback\n",
    "\n",
    "train_params = {\n",
    "    \"warmup_initial_lr\": 1e-5,\n",
    "    \"initial_lr\": 5e-4,\n",
    "    \"lr_mode\": \"cosine\",\n",
    "    \"cosine_final_lr_ratio\": 0.5,\n",
    "    \"optimizer\": \"AdamW\",\n",
    "    \"zero_weight_decay_on_bias_and_bn\": True,\n",
    "    \"lr_warmup_epochs\": 1,\n",
    "    \"warmup_mode\": \"LinearEpochLRWarmup\",\n",
    "    \"optimizer_params\": {\"weight_decay\": 0.0001},\n",
    "    \"ema\": False,\n",
    "    \"average_best_models\": False,\n",
    "    \"ema_params\": {\"beta\": 25, \"decay_type\": \"exp\"},\n",
    "    \"max_epochs\": 10,\n",
    "    \"mixed_precision\": True,\n",
    "    \"loss\": PPYoloELoss(use_static_assigner=False, num_classes=NUM_CLASSES, reg_max=16),\n",
    "    \"valid_metrics_list\": [\n",
    "        DetectionMetrics_050(\n",
    "            score_thres=0.1,\n",
    "            top_k_predictions=300,\n",
    "            num_cls=NUM_CLASSES,\n",
    "            normalize_targets=True,\n",
    "            include_classwise_ap=True,\n",
    "            class_names=CLASS_NAMES,\n",
    "            post_prediction_callback=PPYoloEPostPredictionCallback(score_threshold=0.01, nms_top_k=1000,\n",
    "                                                                   max_predictions=300, nms_threshold=0.7),\n",
    "        )\n",
    "    ],\n",
    "    \"metric_to_watch\": \"mAP@0.50\",\n",
    "}"
   ]
  },
  {
   "cell_type": "markdown",
   "metadata": {
    "id": "G_fCp0KmQzbK"
   },
   "source": [
    "# Instantiate YoloNAS model and launch training\n",
    "\n",
    "We instantiate a YoloNAS_S model, pre-trained on the [COCO detection dataset](https://cocodataset.org/#home).\n",
    "Notice we specify num_classes which is different from the 80 classes of COCO, which results in replacing the classification branch of our model's head."
   ]
  },
  {
   "cell_type": "code",
   "execution_count": null,
   "metadata": {
    "id": "db7bAJsF7XqW",
    "is_executing": true,
    "ExecuteTime": {
     "start_time": "2024-03-07T10:09:29.055556700Z"
    }
   },
   "outputs": [
    {
     "name": "stderr",
     "output_type": "stream",
     "text": [
      "Train epoch 0: 100%|██████████| 62/62 [01:10<00:00,  1.14s/it, PPYoloELoss/loss=3.18, PPYoloELoss/loss_cls=2.04, PPYoloELoss/loss_dfl=0.616, PPYoloELoss/loss_iou=0.522, gpu_mem=7.51]\n",
      "Validating: 100%|██████████| 2/2 [00:02<00:00,  1.08s/it]\n",
      "Train epoch 1: 100%|██████████| 62/62 [00:58<00:00,  1.05it/s, PPYoloELoss/loss=2.35, PPYoloELoss/loss_cls=1.13, PPYoloELoss/loss_dfl=0.631, PPYoloELoss/loss_iou=0.586, gpu_mem=7.5] \n",
      "Validating epoch 1: 100%|██████████| 2/2 [00:01<00:00,  1.15it/s]\n",
      "Train epoch 2:  24%|██▍       | 15/62 [00:15<00:47,  1.01s/it, PPYoloELoss/loss=2.17, PPYoloELoss/loss_cls=1, PPYoloELoss/loss_dfl=0.62, PPYoloELoss/loss_iou=0.549, gpu_mem=5.94]     "
     ]
    }
   ],
   "source": [
    "from super_gradients.training import Trainer\n",
    "from super_gradients.common.object_names import Models\n",
    "from super_gradients.training import models\n",
    "\n",
    "trainer = Trainer(experiment_name=\"yolo_nas_s_cppe-5\", ckpt_root_dir=\"experiments\")\n",
    "model = models.get(Models.YOLO_NAS_S, num_classes=NUM_CLASSES, pretrained_weights=\"coco\")\n",
    "trainer.train(model=model, training_params=train_params, train_loader=train_loader, valid_loader=valid_loader)"
   ]
  },
  {
   "cell_type": "markdown",
   "source": [
    "\n",
    "# Step 4: Run prediction on a real world input.\n",
    "\n",
    "Now, lets see our trained model in action. We load the best checkpoint from step 3, and simply call predict on a real-world image."
   ],
   "metadata": {
    "id": "X0Yf3DmMOKpp"
   }
  },
  {
   "cell_type": "code",
   "execution_count": null,
   "outputs": [],
   "source": [
    "best_model = models.get(Models.YOLO_NAS_S, num_classes=NUM_CLASSES,\n",
    "                        checkpoint_path=os.path.join(trainer.checkpoints_dir_path, \"ckpt_best.pth\"))\n",
    "regular_metrics = trainer.test(model=best_model, test_loader=valid_loader)\n",
    "regular_metrics"
   ],
   "metadata": {
    "collapsed": false,
    "is_executing": true
   }
  },
  {
   "cell_type": "code",
   "source": [
    "prediction = best_model.predict(dataset[\"test\"][0][\"image\"], fuse_model=False)\n",
    "prediction.show()"
   ],
   "metadata": {
    "id": "ahPEDNqMH9Ah",
    "is_executing": true
   },
   "execution_count": null,
   "outputs": []
  },
  {
   "cell_type": "markdown",
   "source": [
    "# Post-training quantization\n",
    "\n",
    "We will now perform post-training quantization (PTQ) on our best model. \n",
    "This will result in a quantized model that can be used on hardware that supports INT8 operations.\n",
    "\n",
    "A post-training quantization process is performed by the `ptq` method of the `Trainer` class. \n",
    "It converts the model's weights to INT8 and performs model calibration to minimize the accuracy loss. \n",
    "The calibration is done using a calibration data loader (`calib_loader`). \n",
    "\n",
    "To evalute the quantized model, we use the `valid_loader` parameter to specify the dataloader for validation. \n",
    "In this case, we use the same dataloader as we used during regular training to have apples-to-apples comparison.\n",
    "\n",
    "Quantization is a last step before model deployment. So after PTQ we usually want to export the model to ONNX format, which is a common format for deployment.\n",
    "The `export_params` parameter is used to specify the various arguments like batch size, whether pre- or post-processing should be applied, etc.\n",
    "For example, if we set `preprocessing=True` and `postprocessing=True` so our detection model will take `uint8` RGB images and output detections after the NMS."
   ],
   "metadata": {
    "collapsed": false
   }
  },
  {
   "cell_type": "code",
   "outputs": [],
   "source": [
    "best_model_checkpoint_path = os.path.join(trainer.checkpoints_dir_path, \"ckpt_best.pth\")\n",
    "best_model_checkpoint_path"
   ],
   "metadata": {
    "collapsed": false,
    "is_executing": true
   },
   "execution_count": null
  },
  {
   "cell_type": "code",
   "outputs": [],
   "source": [
    "from super_gradients.conversion import ExportParams\n",
    "\n",
    "best_model = models.get(Models.YOLO_NAS_S, num_classes=NUM_CLASSES, checkpoint_path=best_model_checkpoint_path)\n",
    "\n",
    "export_params = ExportParams(batch_size=1, preprocessing=True, postprocessing=True)\n",
    "\n",
    "ptq_result = trainer.ptq(model=best_model, calib_loader=valid_loader, valid_loader=valid_loader,\n",
    "                         export_params=export_params)\n",
    "ptq_metrics = ptq_result.valid_metrics_dict"
   ],
   "metadata": {
    "collapsed": false,
    "is_executing": true
   },
   "execution_count": null
  },
  {
   "cell_type": "markdown",
   "source": [
    "### Inspect metrics of model after PTQ"
   ],
   "metadata": {
    "collapsed": false
   }
  },
  {
   "cell_type": "code",
   "outputs": [],
   "source": [
    "ptq_metrics"
   ],
   "metadata": {
    "collapsed": false,
    "is_executing": true
   },
   "execution_count": null
  },
  {
   "cell_type": "markdown",
   "source": [
    "### Pretict with PTQ model"
   ],
   "metadata": {
    "collapsed": false
   }
  },
  {
   "cell_type": "code",
   "outputs": [],
   "source": [
    "prediction = ptq_result.quantized_model.predict(dataset[\"test\"][0][\"image\"], fuse_model=False)\n",
    "prediction.show()"
   ],
   "metadata": {
    "collapsed": false,
    "is_executing": true
   },
   "execution_count": null
  },
  {
   "cell_type": "markdown",
   "source": [
    "# Quantization-aware training\n",
    "\n",
    "Since all local variables are lost, we define again `train_params, train_dataset_params, val_dataset_params, train_dataloader_params, val_dataloader_params`.\n",
    "\n",
    "Next, we call `modify_params_for_qat`, which will manipulate these configurations according to some best practices for QAT. For example, we turn off augmentations for the trainset. \n",
    "All manipulations being done are printed to the screen the for the user's notice.\n",
    "\n",
    "Finally, after we instantiate our objects with our modified configurations, we call `trainer.qat(model=net, training_params=train_params, train_loader=train_loader, valid_loader=valid_loader, calib_loader=train_loader)`\n",
    "\n",
    "Under the hood, the following will occur:\n",
    "- We will use our `calib_loader` which is set to `train_loader` for calibration, gathering statistics that are used to map our network into Int8 range. This part is what we refer to as \"Post-training quantization\".\n",
    "- Next, we validate our PTQ model and export it to ONNX format. \n",
    "- The exported PTQ model is saved under our checkpoints directory.\n",
    "- Finally, we perform quantization aware training with our adapted training parameters - since we originally trained for 10 epochs, the general rule of thumb suggests that we quantization-aware train for 10/10=1 epoch. Again, we export the ONNX model to the checkpoints directory."
   ],
   "metadata": {
    "id": "wFmGCMtDGbng"
   }
  },
  {
   "cell_type": "code",
   "outputs": [],
   "source": [
    "import os\n",
    "from super_gradients.common.object_names import Models\n",
    "from super_gradients.training import models\n",
    "from super_gradients.training.datasets.detection_datasets.coco_format_detection import COCOFormatDetectionDataset\n",
    "from super_gradients.training.pre_launch_callbacks import modify_params_for_qat\n",
    "from super_gradients.conversion import ExportParams\n",
    "\n",
    "best_model = models.get(Models.YOLO_NAS_S, num_classes=NUM_CLASSES, checkpoint_path=best_model_checkpoint_path)\n",
    "\n",
    "qat_train_params, qat_train_dataset_params, qat_valid_dataset_params, qat_train_dataloader_params, qat_val_dataloader_params = modify_params_for_qat(\n",
    "    train_params, train_dataset_params, valid_dataset_params, train_dataloader_params, val_dataloader_params,\n",
    "    max_epochs_divisor=2\n",
    ")\n",
    "\n",
    "qat_trainset = COCOFormatDetectionDataset(**qat_train_dataset_params)\n",
    "qat_valset = COCOFormatDetectionDataset(**qat_valid_dataset_params)\n",
    "\n",
    "qat_train_loader = DataLoader(qat_trainset, **qat_train_dataloader_params)\n",
    "qat_valid_loader = DataLoader(qat_valset, **qat_val_dataloader_params)\n",
    "\n",
    "export_params = ExportParams(batch_size=1, preprocessing=True, postprocessing=True)\n",
    "qat_trainer = Trainer(experiment_name=\"yolo_nas_s_cppe-5_qat\", ckpt_root_dir=\"experiments\")\n",
    "qat_result = qat_trainer.qat(\n",
    "    model=best_model,\n",
    "    training_params=qat_train_params,\n",
    "    train_loader=qat_train_loader,\n",
    "    valid_loader=qat_valid_loader,\n",
    "    calib_loader=qat_valid_loader,\n",
    "    export_params=export_params,\n",
    ")"
   ],
   "metadata": {
    "id": "GtqnnT9mBMWu",
    "is_executing": true
   },
   "execution_count": null
  },
  {
   "cell_type": "markdown",
   "source": [
    "### Inspect metrics of model after QAT"
   ],
   "metadata": {
    "collapsed": false
   }
  },
  {
   "cell_type": "code",
   "outputs": [],
   "source": [
    "qat_metrics = qat_result.valid_metrics_dict\n",
    "qat_metrics"
   ],
   "metadata": {
    "collapsed": false,
    "is_executing": true
   },
   "execution_count": null
  },
  {
   "cell_type": "markdown",
   "source": [
    "### Predict with QAT model"
   ],
   "metadata": {
    "collapsed": false
   }
  },
  {
   "cell_type": "code",
   "execution_count": null,
   "outputs": [],
   "source": [
    "prediction = qat_result.quantized_model.predict(dataset[\"test\"][0][\"image\"], fuse_model=False)\n",
    "prediction.show()"
   ],
   "metadata": {
    "collapsed": false,
    "is_executing": true
   }
  },
  {
   "cell_type": "markdown",
   "source": [
    "# Inference using exported ONNX model\n",
    "\n",
    "Once QAT is done, we export the model to ONNX format and now it is ready for deployment.\n",
    "In this example we will use ONNXRuntime to load the model and run inference on a single image.\n",
    "\n",
    "We can explore the `qat_result.export_result` property to see the details of the exported model and code snippet\n",
    "to run inference using the exported model: \n"
   ],
   "metadata": {
    "collapsed": false
   }
  },
  {
   "cell_type": "code",
   "outputs": [],
   "source": [
    "qat_result.export_result"
   ],
   "metadata": {
    "collapsed": false,
    "is_executing": true
   },
   "execution_count": null
  },
  {
   "cell_type": "markdown",
   "source": [
    "An end-to-end example of how to run inference using the exported model is shown below.\n",
    "\n",
    "**Please keep in mind this is a simple example. We do cut corners here to keep notebook of reasonable size:**\n",
    "\n",
    "* Batch size is set to 1.\n",
    "* In a real-world scenario you would want to batch your inference requests to get the best performance from your model.\n",
    "* Image preprocessing resize image to 640x640 without preserving aspec ratio"
   ],
   "metadata": {
    "collapsed": false
   }
  },
  {
   "cell_type": "code",
   "outputs": [],
   "source": [
    "from super_gradients.training.utils.detection_utils import DetectionVisualization\n",
    "from super_gradients.training.utils.media.image import load_image\n",
    "import onnxruntime\n",
    "import numpy as np\n",
    "\n",
    "import matplotlib.pyplot as plt\n",
    "from super_gradients.inference import iterate_over_detection_predictions_in_batched_format\n",
    "\n",
    "\n",
    "def show_predictions_from_batch_format(image, predictions):\n",
    "    image_index, pred_boxes, pred_scores, pred_classes = next(\n",
    "        iter(iterate_over_detection_predictions_in_batched_format(predictions)))\n",
    "\n",
    "    predicted_boxes = np.concatenate([pred_boxes, pred_scores[:, np.newaxis], pred_classes[:, np.newaxis]], axis=1)\n",
    "\n",
    "    image = DetectionVisualization.visualize_image(image_np=np.array(image), class_names=CLASS_NAMES,\n",
    "                                                   pred_boxes=predicted_boxes)\n",
    "\n",
    "    plt.figure(figsize=(8, 8))\n",
    "    plt.imshow(image)\n",
    "    plt.tight_layout()\n",
    "    plt.show()\n",
    "\n",
    "\n",
    "session = onnxruntime.InferenceSession(\n",
    "    qat_result.export_result.output_onnx_path,\n",
    "    providers=[\"CUDAExecutionProvider\", \"CPUExecutionProvider\"]\n",
    ")\n",
    "inputs = [o.name for o in session.get_inputs()]\n",
    "outputs = [o.name for o in session.get_outputs()]\n",
    "\n",
    "image = load_image(dataset[\"test\"][0][\"image\"])\n",
    "image = cv2.resize(image, (640, 640))\n",
    "\n",
    "input_image = np.moveaxis(image, -1, 0)\n",
    "input_image = np.expand_dims(input_image, axis=0)\n",
    "predictions = session.run(outputs, {inputs[0]: input_image})\n",
    "\n",
    "show_predictions_from_batch_format(image, predictions)"
   ],
   "metadata": {
    "collapsed": false,
    "is_executing": true
   },
   "execution_count": null
  },
  {
   "cell_type": "markdown",
   "source": [
    "# Summary\n",
    "\n",
    "\n",
    "If we plug them into [netron](https://netron.app), we can see that new blocks that were not a part of the original network were introduced: the **Quantize/Dequantize** layers -\n",
    "\n",
    "![Screen Shot 2023-05-23 at 15.29.58.png](data:image/png;base64,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)\n",
    "\n",
    "This is expected and a good way to verify that our model is ready to be converted to Int8 using Nvidia's [TesnorRT](https://docs.nvidia.com/deeplearning/tensorrt/quick-start-guide/index.html#deploy-engine):\n",
    " We can now use these ONNX files to deploy our newly trained YoloNAS models to production. When building the TRT engine it is important specify that we convert to Int8 (the fake quantized layers in our models will be adapted accordingly), this can be done by running:\n",
    "`trtexec --fp16 --int8 --onnx=your_yolonas_qat_model.onnx`.\n",
    "\n",
    "For more information on how to properly export and benchmark YoloNAS, click [here](https://github.com/Deci-AI/super-gradients/blob/master/documentation/source/BenchmarkingYoloNAS.md)."
   ],
   "metadata": {
    "id": "QiCuY_wmVz1X"
   }
  }
 ],
 "metadata": {
  "accelerator": "GPU",
  "colab": {
   "provenance": [],
   "machine_shape": "hm",
   "gpuType": "T4"
  },
  "gpuClass": "standard",
  "kernelspec": {
   "name": "python3",
   "language": "python",
   "display_name": "Python 3 (ipykernel)"
  },
  "language_info": {
   "name": "python"
  }
 },
 "nbformat": 4,
 "nbformat_minor": 0
}
