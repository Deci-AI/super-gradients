{
 "cells": [
  {
   "cell_type": "markdown",
   "source": [
    "Imports:"
   ],
   "metadata": {
    "collapsed": false
   }
  },
  {
   "cell_type": "code",
   "execution_count": null,
   "metadata": {
    "collapsed": true
   },
   "outputs": [],
   "source": [
    "from super_gradients.training import SgModel\n",
    "from super_gradients.training.datasets.dataset_interfaces import Cifar10DatasetInterface\n",
    "from super_gradients.training.metrics.classification_metrics import Accuracy, Top5"
   ]
  },
  {
   "cell_type": "markdown",
   "source": [
    "Initialize an sg_model:"
   ],
   "metadata": {
    "collapsed": false
   }
  },
  {
   "cell_type": "code",
   "execution_count": null,
   "outputs": [],
   "source": [
    "trainer = SgModel('imagenet_pretrained_resnet50')"
   ],
   "metadata": {
    "collapsed": false,
    "pycharm": {
     "name": "#%%\n"
    }
   }
  },
  {
   "cell_type": "markdown",
   "source": [
    "Initialize a Cifar10 dataset interface:"
   ],
   "metadata": {
    "collapsed": false
   }
  },
  {
   "cell_type": "code",
   "execution_count": null,
   "outputs": [],
   "source": [
    "dataset = Cifar10DatasetInterface(dataset_params={\"batch_size\": 256, \"val_batch_size\": 512})\n",
    "trainer.connect_dataset_interface(dataset, data_loader_num_workers=8)"
   ],
   "metadata": {
    "collapsed": false,
    "pycharm": {
     "name": "#%%\n"
    }
   }
  },
  {
   "cell_type": "markdown",
   "source": [
    "Create an Imagenet pretrained Resnet50:"
   ],
   "metadata": {
    "collapsed": false
   }
  },
  {
   "cell_type": "code",
   "execution_count": null,
   "outputs": [],
   "source": [
    "trainer.build_model(\"resnet50\", arch_params={\"pretrained_weights\": \"imagenet\"})"
   ],
   "metadata": {
    "collapsed": false,
    "pycharm": {
     "name": "#%%\n"
    }
   }
  },
  {
   "cell_type": "markdown",
   "source": [
    "Start training:"
   ],
   "metadata": {
    "collapsed": false
   }
  },
  {
   "cell_type": "code",
   "execution_count": null,
   "outputs": [],
   "source": [
    "trainer.train(\n",
    "    training_params={\"max_epochs\": 250,\n",
    "                     \"lr_updates\": [100, 150, 200],\n",
    "                     \"lr_decay_factor\": 0.1,\n",
    "                     \"lr_mode\": \"step\",\n",
    "                     \"initial_lr\": 0.1,\n",
    "                     \"loss\": \"cross_entropy\",\n",
    "                     \"optimizer\": \"SGD\",\n",
    "                     \"optimizer_params\": {\"weight_decay\": 1e-4, \"momentum\": 0.9},\n",
    "                     \"train_metrics_list\": [Accuracy(), Top5()],\n",
    "                     \"valid_metrics_list\": [Accuracy(), Top5()],\n",
    "                     \"metric_to_watch\": \"Accuracy\",\n",
    "                     \"greater_metric_to_watch_is_better\": True})\n"
   ],
   "metadata": {
    "collapsed": false,
    "pycharm": {
     "name": "#%%\n"
    }
   }
  }
 ],
 "metadata": {
  "kernelspec": {
   "display_name": "Python 3",
   "language": "python",
   "name": "python3"
  },
  "language_info": {
   "codemirror_mode": {
    "name": "ipython",
    "version": 2
   },
   "file_extension": ".py",
   "mimetype": "text/x-python",
   "name": "python",
   "nbconvert_exporter": "python",
   "pygments_lexer": "ipython2",
   "version": "2.7.6"
  }
 },
 "nbformat": 4,
 "nbformat_minor": 0
}