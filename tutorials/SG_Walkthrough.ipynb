{
  "nbformat": 4,
  "nbformat_minor": 0,
  "metadata": {
    "kernelspec": {
      "display_name": "Python 3 (ipykernel)",
      "language": "python",
      "name": "python3"
    },
    "language_info": {
      "codemirror_mode": {
        "name": "ipython",
        "version": 3
      },
      "file_extension": ".py",
      "mimetype": "text/x-python",
      "name": "python",
      "nbconvert_exporter": "python",
      "pygments_lexer": "ipython3",
      "version": "3.7.10"
    },
    "colab": {
      "name": "SG_Walkthrough.ipynb",
      "provenance": [],
      "collapsed_sections": []
    },
    "accelerator": "GPU",
    "widgets": {
      "application/vnd.jupyter.widget-state+json": {
        "19bfde73a0214507bd4260b3490dcfe4": {
          "model_module": "@jupyter-widgets/controls",
          "model_name": "HBoxModel",
          "model_module_version": "1.5.0",
          "state": {
            "_view_name": "HBoxView",
            "_dom_classes": [],
            "_model_name": "HBoxModel",
            "_view_module": "@jupyter-widgets/controls",
            "_model_module_version": "1.5.0",
            "_view_count": null,
            "_view_module_version": "1.5.0",
            "box_style": "",
            "layout": "IPY_MODEL_1ddc67fb995d4213a1b436a2e7bc08a0",
            "_model_module": "@jupyter-widgets/controls",
            "children": [
              "IPY_MODEL_5996084d5ad049f08172d849cc578f87",
              "IPY_MODEL_f7240b767f334c8cac51c68b02a85a7d",
              "IPY_MODEL_6fd23f9b562440148dfcbe3865ec743e"
            ]
          }
        },
        "1ddc67fb995d4213a1b436a2e7bc08a0": {
          "model_module": "@jupyter-widgets/base",
          "model_name": "LayoutModel",
          "model_module_version": "1.2.0",
          "state": {
            "_view_name": "LayoutView",
            "grid_template_rows": null,
            "right": null,
            "justify_content": null,
            "_view_module": "@jupyter-widgets/base",
            "overflow": null,
            "_model_module_version": "1.2.0",
            "_view_count": null,
            "flex_flow": null,
            "width": null,
            "min_width": null,
            "border": null,
            "align_items": null,
            "bottom": null,
            "_model_module": "@jupyter-widgets/base",
            "top": null,
            "grid_column": null,
            "overflow_y": null,
            "overflow_x": null,
            "grid_auto_flow": null,
            "grid_area": null,
            "grid_template_columns": null,
            "flex": null,
            "_model_name": "LayoutModel",
            "justify_items": null,
            "grid_row": null,
            "max_height": null,
            "align_content": null,
            "visibility": null,
            "align_self": null,
            "height": null,
            "min_height": null,
            "padding": null,
            "grid_auto_rows": null,
            "grid_gap": null,
            "max_width": null,
            "order": null,
            "_view_module_version": "1.2.0",
            "grid_template_areas": null,
            "object_position": null,
            "object_fit": null,
            "grid_auto_columns": null,
            "margin": null,
            "display": null,
            "left": null
          }
        },
        "5996084d5ad049f08172d849cc578f87": {
          "model_module": "@jupyter-widgets/controls",
          "model_name": "HTMLModel",
          "model_module_version": "1.5.0",
          "state": {
            "_view_name": "HTMLView",
            "style": "IPY_MODEL_7fc2959ba5dc49f0b3573c15bcbbf973",
            "_dom_classes": [],
            "description": "",
            "_model_name": "HTMLModel",
            "placeholder": "​",
            "_view_module": "@jupyter-widgets/controls",
            "_model_module_version": "1.5.0",
            "value": "",
            "_view_count": null,
            "_view_module_version": "1.5.0",
            "description_tooltip": null,
            "_model_module": "@jupyter-widgets/controls",
            "layout": "IPY_MODEL_1052cd22eb5345f9a12303ef276b0b9a"
          }
        },
        "f7240b767f334c8cac51c68b02a85a7d": {
          "model_module": "@jupyter-widgets/controls",
          "model_name": "FloatProgressModel",
          "model_module_version": "1.5.0",
          "state": {
            "_view_name": "ProgressView",
            "style": "IPY_MODEL_c10937dfe98444b58ca4135004d6279e",
            "_dom_classes": [],
            "description": "",
            "_model_name": "FloatProgressModel",
            "bar_style": "success",
            "max": 170498071,
            "_view_module": "@jupyter-widgets/controls",
            "_model_module_version": "1.5.0",
            "value": 170498071,
            "_view_count": null,
            "_view_module_version": "1.5.0",
            "orientation": "horizontal",
            "min": 0,
            "description_tooltip": null,
            "_model_module": "@jupyter-widgets/controls",
            "layout": "IPY_MODEL_73ca6308f0ac4940b4db870f2a33f507"
          }
        },
        "6fd23f9b562440148dfcbe3865ec743e": {
          "model_module": "@jupyter-widgets/controls",
          "model_name": "HTMLModel",
          "model_module_version": "1.5.0",
          "state": {
            "_view_name": "HTMLView",
            "style": "IPY_MODEL_de5ce2980d5149d8b012c05ab904f405",
            "_dom_classes": [],
            "description": "",
            "_model_name": "HTMLModel",
            "placeholder": "​",
            "_view_module": "@jupyter-widgets/controls",
            "_model_module_version": "1.5.0",
            "value": " 170499072/? [00:04&lt;00:00, 32958984.94it/s]",
            "_view_count": null,
            "_view_module_version": "1.5.0",
            "description_tooltip": null,
            "_model_module": "@jupyter-widgets/controls",
            "layout": "IPY_MODEL_e2c7e9b2c6a54b69984827b285069572"
          }
        },
        "7fc2959ba5dc49f0b3573c15bcbbf973": {
          "model_module": "@jupyter-widgets/controls",
          "model_name": "DescriptionStyleModel",
          "model_module_version": "1.5.0",
          "state": {
            "_view_name": "StyleView",
            "_model_name": "DescriptionStyleModel",
            "description_width": "",
            "_view_module": "@jupyter-widgets/base",
            "_model_module_version": "1.5.0",
            "_view_count": null,
            "_view_module_version": "1.2.0",
            "_model_module": "@jupyter-widgets/controls"
          }
        },
        "1052cd22eb5345f9a12303ef276b0b9a": {
          "model_module": "@jupyter-widgets/base",
          "model_name": "LayoutModel",
          "model_module_version": "1.2.0",
          "state": {
            "_view_name": "LayoutView",
            "grid_template_rows": null,
            "right": null,
            "justify_content": null,
            "_view_module": "@jupyter-widgets/base",
            "overflow": null,
            "_model_module_version": "1.2.0",
            "_view_count": null,
            "flex_flow": null,
            "width": null,
            "min_width": null,
            "border": null,
            "align_items": null,
            "bottom": null,
            "_model_module": "@jupyter-widgets/base",
            "top": null,
            "grid_column": null,
            "overflow_y": null,
            "overflow_x": null,
            "grid_auto_flow": null,
            "grid_area": null,
            "grid_template_columns": null,
            "flex": null,
            "_model_name": "LayoutModel",
            "justify_items": null,
            "grid_row": null,
            "max_height": null,
            "align_content": null,
            "visibility": null,
            "align_self": null,
            "height": null,
            "min_height": null,
            "padding": null,
            "grid_auto_rows": null,
            "grid_gap": null,
            "max_width": null,
            "order": null,
            "_view_module_version": "1.2.0",
            "grid_template_areas": null,
            "object_position": null,
            "object_fit": null,
            "grid_auto_columns": null,
            "margin": null,
            "display": null,
            "left": null
          }
        },
        "c10937dfe98444b58ca4135004d6279e": {
          "model_module": "@jupyter-widgets/controls",
          "model_name": "ProgressStyleModel",
          "model_module_version": "1.5.0",
          "state": {
            "_view_name": "StyleView",
            "_model_name": "ProgressStyleModel",
            "description_width": "",
            "_view_module": "@jupyter-widgets/base",
            "_model_module_version": "1.5.0",
            "_view_count": null,
            "_view_module_version": "1.2.0",
            "bar_color": null,
            "_model_module": "@jupyter-widgets/controls"
          }
        },
        "73ca6308f0ac4940b4db870f2a33f507": {
          "model_module": "@jupyter-widgets/base",
          "model_name": "LayoutModel",
          "model_module_version": "1.2.0",
          "state": {
            "_view_name": "LayoutView",
            "grid_template_rows": null,
            "right": null,
            "justify_content": null,
            "_view_module": "@jupyter-widgets/base",
            "overflow": null,
            "_model_module_version": "1.2.0",
            "_view_count": null,
            "flex_flow": null,
            "width": null,
            "min_width": null,
            "border": null,
            "align_items": null,
            "bottom": null,
            "_model_module": "@jupyter-widgets/base",
            "top": null,
            "grid_column": null,
            "overflow_y": null,
            "overflow_x": null,
            "grid_auto_flow": null,
            "grid_area": null,
            "grid_template_columns": null,
            "flex": null,
            "_model_name": "LayoutModel",
            "justify_items": null,
            "grid_row": null,
            "max_height": null,
            "align_content": null,
            "visibility": null,
            "align_self": null,
            "height": null,
            "min_height": null,
            "padding": null,
            "grid_auto_rows": null,
            "grid_gap": null,
            "max_width": null,
            "order": null,
            "_view_module_version": "1.2.0",
            "grid_template_areas": null,
            "object_position": null,
            "object_fit": null,
            "grid_auto_columns": null,
            "margin": null,
            "display": null,
            "left": null
          }
        },
        "de5ce2980d5149d8b012c05ab904f405": {
          "model_module": "@jupyter-widgets/controls",
          "model_name": "DescriptionStyleModel",
          "model_module_version": "1.5.0",
          "state": {
            "_view_name": "StyleView",
            "_model_name": "DescriptionStyleModel",
            "description_width": "",
            "_view_module": "@jupyter-widgets/base",
            "_model_module_version": "1.5.0",
            "_view_count": null,
            "_view_module_version": "1.2.0",
            "_model_module": "@jupyter-widgets/controls"
          }
        },
        "e2c7e9b2c6a54b69984827b285069572": {
          "model_module": "@jupyter-widgets/base",
          "model_name": "LayoutModel",
          "model_module_version": "1.2.0",
          "state": {
            "_view_name": "LayoutView",
            "grid_template_rows": null,
            "right": null,
            "justify_content": null,
            "_view_module": "@jupyter-widgets/base",
            "overflow": null,
            "_model_module_version": "1.2.0",
            "_view_count": null,
            "flex_flow": null,
            "width": null,
            "min_width": null,
            "border": null,
            "align_items": null,
            "bottom": null,
            "_model_module": "@jupyter-widgets/base",
            "top": null,
            "grid_column": null,
            "overflow_y": null,
            "overflow_x": null,
            "grid_auto_flow": null,
            "grid_area": null,
            "grid_template_columns": null,
            "flex": null,
            "_model_name": "LayoutModel",
            "justify_items": null,
            "grid_row": null,
            "max_height": null,
            "align_content": null,
            "visibility": null,
            "align_self": null,
            "height": null,
            "min_height": null,
            "padding": null,
            "grid_auto_rows": null,
            "grid_gap": null,
            "max_width": null,
            "order": null,
            "_view_module_version": "1.2.0",
            "grid_template_areas": null,
            "object_position": null,
            "object_fit": null,
            "grid_auto_columns": null,
            "margin": null,
            "display": null,
            "left": null
          }
        }
      }
    }
  },
  "cells": [
    {
      "cell_type": "markdown",
      "metadata": {
        "id": "mcz50apwZIW1"
      },
      "source": [
        "# SuperGradients Walkthrough Notebook \n",
        "\n",
        "\n",
        "\n"
      ]
    },
    {
      "cell_type": "markdown",
      "source": [
        "![SG_logo.png](data:image/png;base64,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)"
      ],
      "metadata": {
        "id": "aP5wV3CGnw_a"
      }
    },
    {
      "cell_type": "markdown",
      "metadata": {
        "id": "-WOvMdHCZIW5"
      },
      "source": [
        "*Hi there and welcome to SuperGradients, a free open-source training library for PyTorch-based deep learning models.   Let's have a quick look at the SuperGradients library features. The library lets you train models from any Computer Vision tasks or import pre-trained SOTA models, such as object detection, classification of images, and semantic segmentation for videos or images use cases.*\n",
        "\n",
        "*Whether you are a beginner or an expert it is likely that you already have your own training script, model, loss function implementation etc.\n",
        "In this notebook we present the modifications needed in order to launch your training so you can benefit from the various tools the SuperGradients has to offer.*\n"
      ]
    },
    {
      "cell_type": "markdown",
      "source": [
        "## \"Wait, but what's in it for me?\"\n",
        "\n",
        "Great question! our short answer is - Easy to use SOTA DL training library.\n",
        "\n",
        "Our long answer - \n",
        "\n",
        "*   Train models from any Computer Vision tasks or import [pre-trained SOTA models](https://github.com/Deci-AI/super-gradients#pretrained-classification-pytorch-checkpoints) (detection, segmentation, and classification - YOLOv5, DDRNet, EfficientNet, RegNet, ResNet, MobileNet, etc.)\n",
        "*  Shorten the training process using tested and proven [recipes](https://github.com/Deci-AI/super-gradients/tree/master/recipes) & [code examples](https://github.com/Deci-AI/super-gradients/tree/master/examples)\n",
        "*  Easily configure your own or  use plug&play training, dataset , and architecture parameters.\n",
        "*  Save time and easily integrate it into your codebase.\n",
        "\n",
        "\n",
        "\n",
        "\n",
        "\n"
      ],
      "metadata": {
        "id": "3z3T4_Kqmh1G"
      }
    },
    {
      "cell_type": "markdown",
      "source": [
        "## Walkthrough Steps:\n",
        "\n",
        "1.  Installations\n",
        "2.  Integrating your dataset\n",
        "3.  Integrating your neural network architecture\n",
        "5.  Integrating your loss function\n",
        "6.  Putting it all together\n",
        "7.  Defining our metrics of evaluation\n",
        "8.  Defining training parameters\n",
        "9.  Training execution\n"
      ],
      "metadata": {
        "id": "nDpo1N5QedGw"
      }
    },
    {
      "cell_type": "markdown",
      "metadata": {
        "id": "iaZtBgZ6kxEM"
      },
      "source": [
        "> **NOTE:** The defult hardware is CPU, if you want to use Google Collab's GPU you need to follow these steps- \n",
        "\n",
        "- Press \"Runtime\" in manu bar\n",
        "- Choose \"Change runtime type\"\n",
        "- Hardware accelerator - choose \"GPU\"\n",
        "- Press \"Save\"\n",
        "- Restart Runtime"
      ]
    },
    {
      "cell_type": "markdown",
      "source": [
        "## Installations"
      ],
      "metadata": {
        "id": "-QkeE2n4dpW_"
      }
    },
    {
      "cell_type": "code",
      "metadata": {
        "id": "8OCzMh8mZIW6"
      },
      "source": [
        "# SuperGradients installation\n",
        "# !pip install super-gradients\n",
        "! pip install https://deci-build-essentials-development.s3.amazonaws.com/super_gradients-0.1.0rc666-py3-none-any.whl gwpy &> /dev/null\n",
        "# To install from source instead of the last release, comment the command above and uncomment the following one.\n",
        "# !pip install git+https://github.com/Deci-AI/super_gradients.git"
      ],
      "execution_count": null,
      "outputs": []
    },
    {
      "cell_type": "markdown",
      "metadata": {
        "id": "0BQxzIyPZIW8"
      },
      "source": [
        "## **Getting Started With Training a Model**\n",
        "\n",
        "> **NOTE:** All code examples presented in the documentation are in PyTorch framework."
      ]
    },
    {
      "cell_type": "markdown",
      "metadata": {
        "id": "BPFUvVoTZIW-"
      },
      "source": [
        "### Integrating Your Dataset\n",
        "\n",
        "In order to integrate your own dataset with our training scheme, we introduce the *dataset_interface* concept, which wraps the *torch dataloaders* used for training.\n",
        "The specified dataset interface class must inherit from deci_trainer.trainer.datasets.dataset_interfaces.dataset_interface, which is where data augmentation and data loader configurations are defined.\n",
        "For instance, a dataset interface for Cifar10:\n"
      ]
    },
    {
      "cell_type": "code",
      "metadata": {
        "pycharm": {
          "name": "#%%\n"
        },
        "id": "o8SiAyKxZIW_"
      },
      "source": [
        "import torchvision.datasets as datasets\n",
        "import torchvision.transforms as transforms\n",
        "from super_gradients.training import utils as core_utils\n",
        "from super_gradients.training.datasets.dataset_interfaces import DatasetInterface\n",
        "\n",
        "\n",
        "class UserDataset(DatasetInterface):\n",
        "\n",
        "    def __init__(self, name=\"cifar10\", dataset_params={}):\n",
        "        super(UserDataset, self).__init__(dataset_params)\n",
        "        self.dataset_name = name\n",
        "        self.lib_dataset_params = {'mean': (0.4914, 0.4822, 0.4465), 'std': (0.2023, 0.1994, 0.2010)}\n",
        "\n",
        "        crop_size = core_utils.get_param(self.dataset_params, 'crop_size', default_val=32)\n",
        "\n",
        "        transform_train = transforms.Compose([\n",
        "            transforms.RandomCrop(crop_size, padding=4),\n",
        "            transforms.RandomHorizontalFlip(),\n",
        "            transforms.ToTensor(),\n",
        "            transforms.Normalize(self.lib_dataset_params['mean'], self.lib_dataset_params['std']),\n",
        "        ])\n",
        "\n",
        "        transform_test = transforms.Compose([\n",
        "            transforms.ToTensor(),\n",
        "            transforms.Normalize(self.lib_dataset_params['mean'], self.lib_dataset_params['std']),\n",
        "        ])\n",
        "\n",
        "        self.trainset = datasets.CIFAR10(root=self.dataset_params.dataset_dir, train=True, download=True,\n",
        "                                         transform=transform_train)\n",
        "\n",
        "        self.valset = datasets.CIFAR10(root=self.dataset_params.dataset_dir, train=False, download=True,\n",
        "                                        transform=transform_test)\n"
      ],
      "execution_count": null,
      "outputs": []
    },
    {
      "cell_type": "markdown",
      "metadata": {
        "id": "K1lBxRHYZIXA"
      },
      "source": [
        "Required parameters can be passed using the python dataset_params argument. When implementing a dataset interface, the *trainset* and *valset* attributes are required and must be initiated with a torch.utils.data.Dataset type.\n",
        " These fields will cause the SGModel instance to use them accordingly, such as during training, validation, and so on."
      ]
    },
    {
      "cell_type": "markdown",
      "metadata": {
        "id": "wu9BAf96ZIXA"
      },
      "source": [
        "### Integrating Your Neural Network Architecture\n",
        "\n",
        "This is rather straightforward- the only requirement is that the model must be of torch.nn.Module type. In our case, a simple Lenet implementation (taken from https://github.com/icpm/pytorch-cifar10/blob/master/models/LeNet.py)."
      ]
    },
    {
      "cell_type": "code",
      "metadata": {
        "pycharm": {
          "name": "#%%\n"
        },
        "id": "IhYX-u74ZIXB"
      },
      "source": [
        "import torch.nn as nn\n",
        "import torch.nn.functional as func\n",
        "\n",
        "\n",
        "class LeNet(nn.Module):\n",
        "    def __init__(self):\n",
        "        super(LeNet, self).__init__()\n",
        "        self.conv1 = nn.Conv2d(3, 6, kernel_size=5)\n",
        "        self.conv2 = nn.Conv2d(6, 16, kernel_size=5)\n",
        "        self.fc1 = nn.Linear(16*5*5, 120)\n",
        "        self.fc2 = nn.Linear(120, 84)\n",
        "        self.fc3 = nn.Linear(84, 10)\n",
        "\n",
        "    def forward(self, x):\n",
        "        x = func.relu(self.conv1(x))\n",
        "        x = func.max_pool2d(x, 2)\n",
        "        x = func.relu(self.conv2(x))\n",
        "        x = func.max_pool2d(x, 2)\n",
        "        x = x.view(x.size(0), -1)\n",
        "        x = func.relu(self.fc1(x))\n",
        "        x = func.relu(self.fc2(x))\n",
        "        x = self.fc3(x)\n",
        "        return x"
      ],
      "execution_count": null,
      "outputs": []
    },
    {
      "cell_type": "markdown",
      "metadata": {
        "id": "8nxcRRZKZIW8"
      },
      "source": [
        "### Integrating Your Loss Function\n",
        "\n",
        "The loss function class must be of torch.nn.module._LOSS type. For example, our LabelSmoothingCrossEntropyLoss implementation"
      ]
    },
    {
      "cell_type": "code",
      "metadata": {
        "id": "qoxH7RxuZIW9",
        "colab": {
          "base_uri": "https://localhost:8080/"
        },
        "outputId": "1b98a09a-4e68-42b3-da66-ffdd4a5b4122"
      },
      "source": [
        "import torch.nn as nn\n",
        "from super_gradients.training.losses.label_smoothing_cross_entropy_loss import cross_entropy\n",
        "\n",
        "class LabelSmoothingCrossEntropyLoss(nn.CrossEntropyLoss):\n",
        "    def __init__(self, weight=None, ignore_index=-100, reduction='mean', smooth_eps=None, smooth_dist=None,\n",
        "                 from_logits=True):\n",
        "        super(LabelSmoothingCrossEntropyLoss, self).__init__(weight=weight,\n",
        "                                                             ignore_index=ignore_index, reduction=reduction)\n",
        "        self.smooth_eps = smooth_eps\n",
        "        self.smooth_dist = smooth_dist\n",
        "        self.from_logits = from_logits\n",
        "\n",
        "    def forward(self, input, target, smooth_dist=None):\n",
        "        if smooth_dist is None:\n",
        "            smooth_dist = self.smooth_dist\n",
        "        loss = cross_entropy(input, target, weight=self.weight, ignore_index=self.ignore_index,\n",
        "                             reduction=self.reduction, smooth_eps=self.smooth_eps,\n",
        "                             smooth_dist=smooth_dist, from_logits=self.from_logits)\n",
        "\n",
        "        return loss"
      ],
      "execution_count": null,
      "outputs": [
        {
          "output_type": "stream",
          "name": "stdout",
          "text": [
            "You did not mention an AWS environment.You can set the environment variable ENVIRONMENT_NAME with one of the values: development,staging,production\n",
            "callbacks -WARNING- Failed to import deci_lab_client\n"
          ]
        }
      ]
    },
    {
      "cell_type": "markdown",
      "metadata": {
        "id": "yH3lYSY5ZIXB"
      },
      "source": [
        "### Putting It All Together\n",
        "\n",
        "We instantiate an SgModel and a UserDatasetInterface, then call *connect_dataset_interface* which will initialize the dataloaders and pass additional dataset parameters to the SgModel instance."
      ]
    },
    {
      "cell_type": "code",
      "metadata": {
        "pycharm": {
          "name": "#%%\n"
        },
        "id": "j07Lm_qnZIXB",
        "colab": {
          "base_uri": "https://localhost:8080/",
          "height": 156,
          "referenced_widgets": [
            "19bfde73a0214507bd4260b3490dcfe4",
            "1ddc67fb995d4213a1b436a2e7bc08a0",
            "5996084d5ad049f08172d849cc578f87",
            "f7240b767f334c8cac51c68b02a85a7d",
            "6fd23f9b562440148dfcbe3865ec743e",
            "7fc2959ba5dc49f0b3573c15bcbbf973",
            "1052cd22eb5345f9a12303ef276b0b9a",
            "c10937dfe98444b58ca4135004d6279e",
            "73ca6308f0ac4940b4db870f2a33f507",
            "de5ce2980d5149d8b012c05ab904f405",
            "e2c7e9b2c6a54b69984827b285069572"
          ]
        },
        "outputId": "fa0a86c1-d1e4-47c2-c4e0-1eed590f8d6d"
      },
      "source": [
        "from super_gradients.training import SgModel\n",
        "\n",
        "sg_model = SgModel(experiment_name='LeNet_cifar10_example')\n",
        "dataset_params = {\"batch_size\": 256}\n",
        "dataset = UserDataset(dataset_params)\n",
        "sg_model.connect_dataset_interface(dataset)"
      ],
      "execution_count": null,
      "outputs": [
        {
          "output_type": "stream",
          "name": "stdout",
          "text": [
            "Downloading https://www.cs.toronto.edu/~kriz/cifar-10-python.tar.gz to ./data/cifar-10-python.tar.gz\n"
          ]
        },
        {
          "output_type": "display_data",
          "data": {
            "application/vnd.jupyter.widget-view+json": {
              "model_id": "19bfde73a0214507bd4260b3490dcfe4",
              "version_minor": 0,
              "version_major": 2
            },
            "text/plain": [
              "  0%|          | 0/170498071 [00:00<?, ?it/s]"
            ]
          },
          "metadata": {}
        },
        {
          "output_type": "stream",
          "name": "stdout",
          "text": [
            "Extracting ./data/cifar-10-python.tar.gz to ./data/\n",
            "Files already downloaded and verified\n"
          ]
        },
        {
          "output_type": "stream",
          "name": "stderr",
          "text": [
            "/usr/local/lib/python3.7/dist-packages/torch/utils/data/dataloader.py:481: UserWarning: This DataLoader will create 8 worker processes in total. Our suggested max number of worker in current system is 2, which is smaller than what this DataLoader is going to create. Please be aware that excessive worker creation might get DataLoader running slow or even freeze, lower the worker number to avoid potential slowness/freeze if necessary.\n",
            "  cpuset_checked))\n"
          ]
        }
      ]
    },
    {
      "cell_type": "markdown",
      "metadata": {
        "id": "f8FrhKxMZIXC"
      },
      "source": [
        "Now, we pass a LeNet instance we defined above to the SgModel:"
      ]
    },
    {
      "cell_type": "code",
      "metadata": {
        "pycharm": {
          "name": "#%%\n"
        },
        "id": "RbnLARWnZIXC"
      },
      "source": [
        "network = LeNet()\n",
        "sg_model.build_model(network)"
      ],
      "execution_count": null,
      "outputs": []
    },
    {
      "cell_type": "markdown",
      "metadata": {
        "id": "RarXWwEcZIXC"
      },
      "source": [
        "Next, we define metrics in order to valuate our model.\n",
        "The metrics objects to be logged during training must be of torchmetrics.Metric type. For more information on how to use torchmetric.Metric objects and implement your own metrics. see https://torchmetrics.readthedocs.io/en/latest/pages/overview.html.\n",
        "During training, the metric's update is called with the model's raw outputs and raw targets. Therefore, any processing of the two must be taken into account and applied in the update.\n",
        "\n",
        "For most of the familiar cases, an existing torchmetric.Metric implementation exists in super_gradients.training.metrics. Here we simply use the SuperGradients Top1 and Top5 accuracy metrics in order to define the metrics for evaluation on the train set and the validation set."
      ]
    },
    {
      "cell_type": "code",
      "metadata": {
        "pycharm": {
          "name": "#%%\n"
        },
        "id": "FAx2nZr9ZIXC"
      },
      "source": [
        "from super_gradients.training.metrics import Accuracy, Top5\n",
        "\n",
        "train_metrics_list = [Accuracy(), Top5()]\n",
        "valid_metrics_list = [Accuracy(), Top5()]"
      ],
      "execution_count": null,
      "outputs": []
    },
    {
      "cell_type": "markdown",
      "metadata": {
        "id": "HaQipmc_ZIXD"
      },
      "source": [
        "### Defining Your Training Parameters\n",
        "Finally, we can define the training parameters:"
      ]
    },
    {
      "cell_type": "code",
      "metadata": {
        "pycharm": {
          "name": "#%%\n"
        },
        "id": "_fnunu1LZIXD",
        "colab": {
          "base_uri": "https://localhost:8080/"
        },
        "outputId": "be23ca89-1361-47a1-b4a4-d860e4fb684f"
      },
      "source": [
        "train_params = {\"max_epochs\": 10,\n",
        "                \"lr_updates\": [100, 150, 200],\n",
        "                \"lr_decay_factor\": 0.1,\n",
        "                \"lr_mode\": \"step\",\n",
        "                \"lr_warmup_epochs\": 0,\n",
        "                \"initial_lr\": 0.1,\n",
        "                \"loss\": LabelSmoothingCrossEntropyLoss(),\n",
        "                \"criterion_params\": {},\n",
        "                \"optimizer\": \"SGD\",\n",
        "                \"optimizer_params\": {\"weight_decay\": 1e-4, \"momentum\": 0.9},\n",
        "                \"launch_tensorboard\": False,\n",
        "                \"train_metrics_list\": train_metrics_list,\n",
        "                \"valid_metrics_list\": valid_metrics_list,\n",
        "                \"loss_logging_items_names\": [\"Loss\"],\n",
        "                \"metric_to_watch\": \"Accuracy\",\n",
        "                \"greater_metric_to_watch_is_better\": True}\n",
        "                "
      ],
      "execution_count": null,
      "outputs": [
        {
          "output_type": "stream",
          "name": "stdout",
          "text": [
            "sg_model -INFO- Started training for 10 epochs (0/9)\n",
            "\n"
          ]
        },
        {
          "output_type": "stream",
          "name": "stderr",
          "text": [
            "Train epoch 0:   0%|          | 0/782 [00:00<?, ?it/s]/usr/local/lib/python3.7/dist-packages/torch/utils/data/dataloader.py:481: UserWarning: This DataLoader will create 8 worker processes in total. Our suggested max number of worker in current system is 2, which is smaller than what this DataLoader is going to create. Please be aware that excessive worker creation might get DataLoader running slow or even freeze, lower the worker number to avoid potential slowness/freeze if necessary.\n",
            "  cpuset_checked))\n",
            "/usr/local/lib/python3.7/dist-packages/torch/cuda/memory.py:386: FutureWarning: torch.cuda.memory_cached has been renamed to torch.cuda.memory_reserved\n",
            "  FutureWarning)\n",
            "Train epoch 0: 100%|██████████| 782/782 [00:34<00:00, 22.65it/s, Accuracy=0.186, Loss=2.11, Top5=0.736, gpu_mem=0.0273]\n",
            "Validation epoch 0: 100%|██████████| 50/50 [00:03<00:00, 14.33it/s]"
          ]
        },
        {
          "output_type": "stream",
          "name": "stdout",
          "text": [
            "sg_model -INFO- Best checkpoint overriden: validation Accuracy: 0.1454000025987625\n"
          ]
        },
        {
          "output_type": "stream",
          "name": "stderr",
          "text": [
            "\n",
            "Train epoch 1: 100%|██████████| 782/782 [00:32<00:00, 24.34it/s, Accuracy=0.213, Loss=2.05, Top5=0.77, gpu_mem=0.0273]\n",
            "Validation epoch 1: 100%|██████████| 50/50 [00:03<00:00, 14.52it/s]"
          ]
        },
        {
          "output_type": "stream",
          "name": "stdout",
          "text": [
            "sg_model -INFO- Best checkpoint overriden: validation Accuracy: 0.23319999873638153\n"
          ]
        },
        {
          "output_type": "stream",
          "name": "stderr",
          "text": [
            "\n",
            "Train epoch 2: 100%|██████████| 782/782 [00:33<00:00, 23.63it/s, Accuracy=0.221, Loss=2.05, Top5=0.772, gpu_mem=0.0273]\n",
            "Validation epoch 2: 100%|██████████| 50/50 [00:03<00:00, 14.39it/s]\n",
            "Train epoch 3: 100%|██████████| 782/782 [00:32<00:00, 24.21it/s, Accuracy=0.195, Loss=2.09, Top5=0.758, gpu_mem=0.0273]\n",
            "Validation epoch 3: 100%|██████████| 50/50 [00:03<00:00, 14.75it/s]\n",
            "Train epoch 4: 100%|██████████| 782/782 [00:32<00:00, 24.06it/s, Accuracy=0.195, Loss=2.09, Top5=0.754, gpu_mem=0.0273]\n",
            "Validation epoch 4: 100%|██████████| 50/50 [00:03<00:00, 14.49it/s]\n",
            "Train epoch 5: 100%|██████████| 782/782 [00:32<00:00, 23.81it/s, Accuracy=0.179, Loss=2.13, Top5=0.728, gpu_mem=0.0273]\n",
            "Validation epoch 5: 100%|██████████| 50/50 [00:03<00:00, 14.28it/s]\n",
            "Train epoch 6: 100%|██████████| 782/782 [00:33<00:00, 23.66it/s, Accuracy=0.168, Loss=2.15, Top5=0.711, gpu_mem=0.0273]\n",
            "Validation epoch 6: 100%|██████████| 50/50 [00:03<00:00, 14.18it/s]\n",
            "Train epoch 7: 100%|██████████| 782/782 [00:33<00:00, 23.39it/s, Accuracy=0.166, Loss=2.16, Top5=0.714, gpu_mem=0.0273]\n",
            "Validation epoch 7: 100%|██████████| 50/50 [00:03<00:00, 13.98it/s]\n",
            "Train epoch 8: 100%|██████████| 782/782 [00:32<00:00, 23.71it/s, Accuracy=0.163, Loss=2.16, Top5=0.708, gpu_mem=0.0273]\n",
            "Validation epoch 8: 100%|██████████| 50/50 [00:03<00:00, 13.89it/s]\n",
            "Train epoch 9: 100%|██████████| 782/782 [00:33<00:00, 23.45it/s, Accuracy=0.163, Loss=2.16, Top5=0.704, gpu_mem=0.0273]\n",
            "Validation epoch 9: 100%|██████████| 50/50 [00:03<00:00, 14.37it/s]"
          ]
        },
        {
          "output_type": "stream",
          "name": "stdout",
          "text": [
            "sg_model -INFO- RUNNING ADDITIONAL TEST ON THE AVERAGED MODEL...\n"
          ]
        },
        {
          "output_type": "stream",
          "name": "stderr",
          "text": [
            "\n",
            "Validation epoch 10: 100%|██████████| 50/50 [00:03<00:00, 14.32it/s]\n"
          ]
        }
      ]
    },
    {
      "cell_type": "markdown",
      "source": [
        "### Training Execution\n",
        "Now that all of the parameters and integrations are done we can simply call *train*:"
      ],
      "metadata": {
        "id": "M-Jhp4npkNXT"
      }
    },
    {
      "cell_type": "code",
      "source": [
        "sg_model.train(train_params)"
      ],
      "metadata": {
        "id": "cPRQq43skCeG"
      },
      "execution_count": null,
      "outputs": []
    },
    {
      "cell_type": "markdown",
      "metadata": {
        "id": "Y-s4y9-LZIXD"
      },
      "source": [
        "> **Training Parameter Notes:**\n",
        "\\\n",
        "loss_logging_items_names parameter – Refers to the single item returned by our loss function described above.\n",
        "*metric_to_watch* – Is the model’s metric that determines the checkpoint to be saved. In our example, this parameter is set to Accuracy, and can be set to any of the following:\n",
        "A metric name (str) of one of the metric objects from the *valid_metrics_list* or \"Loss\" (which refers to the validation loss).\n",
        "*greater_metric_to_watch_is_better* flag – Determines when to save a model's checkpoint according to the value of the metric_to_watch."
      ]
    },
    {
      "cell_type": "markdown",
      "source": [
        "## Conclusion\n",
        "\n",
        "Great job! You have finished a full walkthrough of SuperGradients components for deep learning models' training. You can now try out our [pre-trained models fine tune notebook](https://colab.research.google.com/drive/1FsMo11hFw6OS1e1x1-LFda23vrihspdz#scrollTo=0kufTIGMff9y), or train your own models using our SOTA models' [recipes](https://github.com/Deci-AI/super-gradients/tree/master/recipes)."
      ],
      "metadata": {
        "id": "NvaSmNqOfmMr"
      }
    },
    {
      "cell_type": "code",
      "source": [
        ""
      ],
      "metadata": {
        "id": "7V1AMPglfmp2"
      },
      "execution_count": null,
      "outputs": []
    }
  ]
}