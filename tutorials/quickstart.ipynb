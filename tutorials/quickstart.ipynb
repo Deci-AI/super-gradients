{
  "cells": [
    {
      "cell_type": "code",
      "source": [
        "! pip install https://deci-build-essentials-development.s3.amazonaws.com/super_gradients-0.1.0rc666-py3-none-any.whl gwpy &> /dev/null"
      ],
      "metadata": {
        "id": "hf512jo3nMIE"
      },
      "execution_count": null,
      "outputs": []
    },
    {
      "cell_type": "markdown",
      "source": [
        "This short quickstart tutorial uses SuperGradients to:\n",
        "\n",
        "Load Cifar10 dataset.\n",
        "Build a Resnet18 network.\n",
        "Train and evaluate it on Cifar10.\n",
        "\n",
        "Imports:"
      ],
      "metadata": {
        "collapsed": false,
        "id": "Rmg5LZZ-OcOD"
      }
    },
    {
      "cell_type": "code",
      "execution_count": null,
      "metadata": {
        "collapsed": true,
        "id": "q6XE_cIYOcOH",
        "colab": {
          "base_uri": "https://localhost:8080/"
        },
        "outputId": "1723ca61-8480-41ea-fab3-cee3c78d66ef"
      },
      "outputs": [
        {
          "output_type": "stream",
          "name": "stdout",
          "text": [
            "You did not mention an AWS environment.You can set the environment variable ENVIRONMENT_NAME with one of the values: development,staging,production\n",
            "callbacks -WARNING- Failed to import deci_lab_client\n"
          ]
        }
      ],
      "source": [
        "from super_gradients.training import SgModel\n",
        "from super_gradients.training.datasets.dataset_interfaces import Cifar10DatasetInterface\n",
        "from super_gradients.training.metrics.classification_metrics import Accuracy, Top5"
      ]
    },
    {
      "cell_type": "markdown",
      "source": [
        "Initialize an sg_model object, which is in charge of everything that happens during training- saving checkpoints, plotting etc.\n",
        "The experiment name argument will cause the checkpoints, logs and tensorboards to be saved in a directory with the same name under the checkpoints\n",
        "directory."
      ],
      "metadata": {
        "collapsed": false,
        "id": "YPym4wvpOcOJ"
      }
    },
    {
      "cell_type": "code",
      "execution_count": null,
      "outputs": [],
      "source": [
        "trainer = SgModel(experiment_name='cifar10_on_pretrained_resnet50')"
      ],
      "metadata": {
        "pycharm": {
          "name": "#%%\n"
        },
        "id": "3PUfUEF7OcOJ"
      }
    },
    {
      "cell_type": "markdown",
      "source": [
        "Initialize a Cifar10 dataset interface object that wraps the train and validation data loaders we will use\n",
        " during training."
      ],
      "metadata": {
        "collapsed": false,
        "id": "cMq6FCqHOcOK"
      }
    },
    {
      "cell_type": "code",
      "execution_count": null,
      "outputs": [
        {
          "output_type": "stream",
          "name": "stdout",
          "text": [
            "Downloading https://www.cs.toronto.edu/~kriz/cifar-10-python.tar.gz to ./data/cifar-10-python.tar.gz\n"
          ]
        },
        {
          "output_type": "display_data",
          "data": {
            "application/vnd.jupyter.widget-view+json": {
              "model_id": "c297ed070ba6491c828c2c45d575aded",
              "version_minor": 0,
              "version_major": 2
            },
            "text/plain": [
              "  0%|          | 0/170498071 [00:00<?, ?it/s]"
            ]
          },
          "metadata": {}
        },
        {
          "output_type": "stream",
          "name": "stdout",
          "text": [
            "Extracting ./data/cifar-10-python.tar.gz to ./data/\n",
            "Files already downloaded and verified\n"
          ]
        },
        {
          "output_type": "stream",
          "name": "stderr",
          "text": [
            "/usr/local/lib/python3.7/dist-packages/torch/utils/data/dataloader.py:481: UserWarning: This DataLoader will create 8 worker processes in total. Our suggested max number of worker in current system is 2, which is smaller than what this DataLoader is going to create. Please be aware that excessive worker creation might get DataLoader running slow or even freeze, lower the worker number to avoid potential slowness/freeze if necessary.\n",
            "  cpuset_checked))\n"
          ]
        }
      ],
      "source": [
        "dataset = Cifar10DatasetInterface(dataset_params={\"batch_size\": 256, \"val_batch_size\": 512})\n",
        "trainer.connect_dataset_interface(dataset, data_loader_num_workers=8)"
      ],
      "metadata": {
        "pycharm": {
          "name": "#%%\n"
        },
        "id": "lySYiXr5OcOK",
        "colab": {
          "base_uri": "https://localhost:8080/",
          "height": 154,
          "referenced_widgets": [
            "c297ed070ba6491c828c2c45d575aded",
            "784eeba5feee4ea3b98773df456bb53e",
            "9bf2aae599a04200a56925945bd584c9",
            "9f40257537c546c1b7b7c3730daf735b",
            "7aea81d6976b43a199e4c611a2d9a70e",
            "f957e544b4114b5a965a234b4ad5ef1a",
            "78df37e5a44841c59374d78def2c03f0",
            "a86de67572de495089ec6b876690eecd",
            "1e1b2c2805cd458b82c30b93a70f39ea",
            "625c6672a9ad437cb54a3a41715f3c05",
            "962d8a20bf484b3197cba4868f752083"
          ]
        },
        "outputId": "370523d5-2bd2-477e-cbf3-242c26077fab"
      }
    },
    {
      "cell_type": "markdown",
      "source": [
        "Build Resnet18 network:"
      ],
      "metadata": {
        "collapsed": false,
        "id": "h7KQLNChOcOK"
      }
    },
    {
      "cell_type": "code",
      "execution_count": null,
      "outputs": [],
      "source": [
        "trainer.build_model(\"resnet18\")"
      ],
      "metadata": {
        "pycharm": {
          "name": "#%%\n"
        },
        "id": "5nUNT4qsOcOL"
      }
    },
    {
      "cell_type": "markdown",
      "source": [
        "Start training and evaluation:"
      ],
      "metadata": {
        "collapsed": false,
        "id": "xcSyuuIsOcOL"
      }
    },
    {
      "cell_type": "code",
      "execution_count": 7,
      "outputs": [
        {
          "metadata": {
            "tags": null
          },
          "name": "stdout",
          "output_type": "stream",
          "text": [
            "sg_model -INFO- Started training for 20 epochs (0/19)\n",
            "\n"
          ]
        },
        {
          "metadata": {
            "tags": null
          },
          "name": "stderr",
          "output_type": "stream",
          "text": [
            "Train epoch 0:   0%|          | 0/196 [00:00<?, ?it/s]/usr/local/lib/python3.7/dist-packages/torch/utils/data/dataloader.py:481: UserWarning: This DataLoader will create 8 worker processes in total. Our suggested max number of worker in current system is 2, which is smaller than what this DataLoader is going to create. Please be aware that excessive worker creation might get DataLoader running slow or even freeze, lower the worker number to avoid potential slowness/freeze if necessary.\n",
            "  cpuset_checked))\n",
            "/usr/local/lib/python3.7/dist-packages/torch/cuda/memory.py:386: FutureWarning: torch.cuda.memory_cached has been renamed to torch.cuda.memory_reserved\n",
            "  FutureWarning)\n",
            "Train epoch 0: 100%|██████████| 196/196 [00:32<00:00,  6.07it/s, Accuracy=0.25, Loss=2.43, Top5=0.768, gpu_mem=0.545]\n",
            "Validation epoch 0: 100%|██████████| 20/20 [00:03<00:00,  5.49it/s]\n"
          ]
        },
        {
          "metadata": {
            "tags": null
          },
          "name": "stdout",
          "output_type": "stream",
          "text": [
            "sg_model -INFO- Best checkpoint overriden: validation Accuracy: 0.37470000982284546\n"
          ]
        },
        {
          "output_type": "stream",
          "name": "stderr",
          "text": [
            "Train epoch 1: 100%|██████████| 196/196 [00:31<00:00,  6.17it/s, Accuracy=0.39, Loss=1.67, Top5=0.897, gpu_mem=0.736]\n",
            "Validation epoch 1: 100%|██████████| 20/20 [00:03<00:00,  5.25it/s]\n"
          ]
        },
        {
          "output_type": "stream",
          "name": "stdout",
          "text": [
            "sg_model -INFO- Best checkpoint overriden: validation Accuracy: 0.4399999976158142\n"
          ]
        },
        {
          "output_type": "stream",
          "name": "stderr",
          "text": [
            "Train epoch 2: 100%|██████████| 196/196 [00:30<00:00,  6.35it/s, Accuracy=0.454, Loss=1.49, Top5=0.92, gpu_mem=0.736]\n",
            "Validation epoch 2: 100%|██████████| 20/20 [00:03<00:00,  5.22it/s]\n"
          ]
        },
        {
          "output_type": "stream",
          "name": "stdout",
          "text": [
            "sg_model -INFO- Best checkpoint overriden: validation Accuracy: 0.47540000081062317\n"
          ]
        },
        {
          "output_type": "stream",
          "name": "stderr",
          "text": [
            "Train epoch 3: 100%|██████████| 196/196 [00:30<00:00,  6.34it/s, Accuracy=0.505, Loss=1.36, Top5=0.938, gpu_mem=0.736]\n",
            "Validation epoch 3: 100%|██████████| 20/20 [00:03<00:00,  5.29it/s]\n"
          ]
        },
        {
          "output_type": "stream",
          "name": "stdout",
          "text": [
            "sg_model -INFO- Best checkpoint overriden: validation Accuracy: 0.51419997215271\n"
          ]
        },
        {
          "output_type": "stream",
          "name": "stderr",
          "text": [
            "Train epoch 4: 100%|██████████| 196/196 [00:31<00:00,  6.30it/s, Accuracy=0.558, Loss=1.23, Top5=0.953, gpu_mem=0.736]\n",
            "Validation epoch 4: 100%|██████████| 20/20 [00:03<00:00,  5.13it/s]\n"
          ]
        },
        {
          "output_type": "stream",
          "name": "stdout",
          "text": [
            "sg_model -INFO- Best checkpoint overriden: validation Accuracy: 0.5873000025749207\n"
          ]
        },
        {
          "output_type": "stream",
          "name": "stderr",
          "text": [
            "Train epoch 5: 100%|██████████| 196/196 [00:30<00:00,  6.36it/s, Accuracy=0.594, Loss=1.13, Top5=0.96, gpu_mem=0.736]\n",
            "Validation epoch 5: 100%|██████████| 20/20 [00:03<00:00,  5.24it/s]\n"
          ]
        },
        {
          "output_type": "stream",
          "name": "stdout",
          "text": [
            "sg_model -INFO- Best checkpoint overriden: validation Accuracy: 0.6154000163078308\n"
          ]
        },
        {
          "output_type": "stream",
          "name": "stderr",
          "text": [
            "Train epoch 6: 100%|██████████| 196/196 [00:30<00:00,  6.38it/s, Accuracy=0.654, Loss=0.968, Top5=0.971, gpu_mem=0.736]\n",
            "Validation epoch 6: 100%|██████████| 20/20 [00:03<00:00,  5.21it/s]\n"
          ]
        },
        {
          "output_type": "stream",
          "name": "stdout",
          "text": [
            "sg_model -INFO- Best checkpoint overriden: validation Accuracy: 0.6711999773979187\n"
          ]
        },
        {
          "output_type": "stream",
          "name": "stderr",
          "text": [
            "Train epoch 7: 100%|██████████| 196/196 [00:30<00:00,  6.35it/s, Accuracy=0.668, Loss=0.931, Top5=0.973, gpu_mem=0.736]\n",
            "Validation epoch 7: 100%|██████████| 20/20 [00:03<00:00,  5.19it/s]\n"
          ]
        },
        {
          "output_type": "stream",
          "name": "stdout",
          "text": [
            "sg_model -INFO- Best checkpoint overriden: validation Accuracy: 0.6801000237464905\n"
          ]
        },
        {
          "output_type": "stream",
          "name": "stderr",
          "text": [
            "Train epoch 8: 100%|██████████| 196/196 [00:30<00:00,  6.42it/s, Accuracy=0.676, Loss=0.91, Top5=0.974, gpu_mem=0.736]\n",
            "Validation epoch 8: 100%|██████████| 20/20 [00:03<00:00,  5.27it/s]\n"
          ]
        },
        {
          "output_type": "stream",
          "name": "stdout",
          "text": [
            "sg_model -INFO- Best checkpoint overriden: validation Accuracy: 0.6852999925613403\n"
          ]
        },
        {
          "output_type": "stream",
          "name": "stderr",
          "text": [
            "Train epoch 9: 100%|██████████| 196/196 [00:30<00:00,  6.33it/s, Accuracy=0.683, Loss=0.885, Top5=0.977, gpu_mem=0.736]\n",
            "Validation epoch 9: 100%|██████████| 20/20 [00:03<00:00,  5.10it/s]\n"
          ]
        },
        {
          "output_type": "stream",
          "name": "stdout",
          "text": [
            "sg_model -INFO- Best checkpoint overriden: validation Accuracy: 0.692300021648407\n"
          ]
        },
        {
          "output_type": "stream",
          "name": "stderr",
          "text": [
            "Train epoch 10: 100%|██████████| 196/196 [00:30<00:00,  6.45it/s, Accuracy=0.688, Loss=0.877, Top5=0.976, gpu_mem=0.736]\n",
            "Validation epoch 10: 100%|██████████| 20/20 [00:03<00:00,  5.19it/s]\n"
          ]
        },
        {
          "output_type": "stream",
          "name": "stdout",
          "text": [
            "sg_model -INFO- Best checkpoint overriden: validation Accuracy: 0.6959999799728394\n"
          ]
        },
        {
          "output_type": "stream",
          "name": "stderr",
          "text": [
            "Train epoch 11: 100%|██████████| 196/196 [00:30<00:00,  6.42it/s, Accuracy=0.696, Loss=0.852, Top5=0.978, gpu_mem=0.736]\n",
            "Validation epoch 11: 100%|██████████| 20/20 [00:03<00:00,  5.10it/s]\n"
          ]
        },
        {
          "output_type": "stream",
          "name": "stdout",
          "text": [
            "sg_model -INFO- Best checkpoint overriden: validation Accuracy: 0.7053999900817871\n"
          ]
        },
        {
          "output_type": "stream",
          "name": "stderr",
          "text": [
            "Train epoch 12: 100%|██████████| 196/196 [00:30<00:00,  6.33it/s, Accuracy=0.702, Loss=0.841, Top5=0.979, gpu_mem=0.736]\n",
            "Validation epoch 12: 100%|██████████| 20/20 [00:03<00:00,  5.15it/s]\n",
            "Train epoch 13: 100%|██████████| 196/196 [00:31<00:00,  6.32it/s, Accuracy=0.701, Loss=0.839, Top5=0.979, gpu_mem=0.736]\n",
            "Validation epoch 13: 100%|██████████| 20/20 [00:03<00:00,  5.02it/s]\n",
            "Train epoch 14: 100%|██████████| 196/196 [00:31<00:00,  6.31it/s, Accuracy=0.703, Loss=0.837, Top5=0.979, gpu_mem=0.736]\n",
            "Validation epoch 14: 100%|██████████| 20/20 [00:03<00:00,  5.15it/s]\n"
          ]
        },
        {
          "output_type": "stream",
          "name": "stdout",
          "text": [
            "sg_model -INFO- Best checkpoint overriden: validation Accuracy: 0.7064999938011169\n"
          ]
        },
        {
          "output_type": "stream",
          "name": "stderr",
          "text": [
            "Train epoch 15: 100%|██████████| 196/196 [00:31<00:00,  6.32it/s, Accuracy=0.699, Loss=0.837, Top5=0.979, gpu_mem=0.736]\n",
            "Validation epoch 15: 100%|██████████| 20/20 [00:03<00:00,  5.27it/s]\n",
            "Train epoch 16: 100%|██████████| 196/196 [00:30<00:00,  6.37it/s, Accuracy=0.703, Loss=0.831, Top5=0.979, gpu_mem=0.736]\n",
            "Validation epoch 16: 100%|██████████| 20/20 [00:03<00:00,  5.20it/s]\n"
          ]
        },
        {
          "output_type": "stream",
          "name": "stdout",
          "text": [
            "sg_model -INFO- Best checkpoint overriden: validation Accuracy: 0.7074999809265137\n"
          ]
        },
        {
          "output_type": "stream",
          "name": "stderr",
          "text": [
            "Train epoch 17: 100%|██████████| 196/196 [00:30<00:00,  6.39it/s, Accuracy=0.701, Loss=0.836, Top5=0.979, gpu_mem=0.736]\n",
            "Validation epoch 17: 100%|██████████| 20/20 [00:03<00:00,  5.24it/s]\n"
          ]
        },
        {
          "output_type": "stream",
          "name": "stdout",
          "text": [
            "sg_model -INFO- Best checkpoint overriden: validation Accuracy: 0.7099999785423279\n"
          ]
        },
        {
          "output_type": "stream",
          "name": "stderr",
          "text": [
            "Train epoch 18: 100%|██████████| 196/196 [00:30<00:00,  6.36it/s, Accuracy=0.704, Loss=0.832, Top5=0.98, gpu_mem=0.736]\n",
            "Validation epoch 18: 100%|██████████| 20/20 [00:03<00:00,  5.18it/s]\n",
            "Train epoch 19: 100%|██████████| 196/196 [00:30<00:00,  6.33it/s, Accuracy=0.704, Loss=0.834, Top5=0.979, gpu_mem=0.736]\n",
            "Validation epoch 19: 100%|██████████| 20/20 [00:03<00:00,  5.21it/s]\n"
          ]
        },
        {
          "output_type": "stream",
          "name": "stdout",
          "text": [
            "sg_model -INFO- RUNNING ADDITIONAL TEST ON THE AVERAGED MODEL...\n"
          ]
        },
        {
          "output_type": "stream",
          "name": "stderr",
          "text": [
            "Validation epoch 20: 100%|██████████| 20/20 [00:03<00:00,  5.16it/s]\n"
          ]
        }
      ],
      "source": [
        "trainer.train(\n",
        "    training_params={\"max_epochs\": 20,\n",
        "                     \"lr_updates\": [5, 10, 15],\n",
        "                     \"lr_decay_factor\": 0.1,\n",
        "                     \"lr_mode\": \"step\",\n",
        "                     \"initial_lr\": 0.1,\n",
        "                     \"loss\": \"cross_entropy\",\n",
        "                     \"optimizer\": \"SGD\",\n",
        "                     \"optimizer_params\": {\"weight_decay\": 1e-4, \"momentum\": 0.9},\n",
        "                     \"train_metrics_list\": [Accuracy(), Top5()],\n",
        "                     \"valid_metrics_list\": [Accuracy(), Top5()],\n",
        "                     \"metric_to_watch\": \"Accuracy\",\n",
        "                     \"greater_metric_to_watch_is_better\": True})"
      ],
      "metadata": {
        "pycharm": {
          "name": "#%%\n"
        },
        "id": "7R61rhxbOcOM",
        "colab": {
          "base_uri": "https://localhost:8080/"
        },
        "outputId": "307583e8-8223-4256-d8ed-141f1705528e"
      }
    },
    {
      "cell_type": "markdown",
      "source": [
        "Once training is finished, the trained model can be accessed through *trainer.net*. All of the architectures offered by SuperGradients <link> compilation processes have been verified and can be uploaded to deci lab <link>. Be sure to see how one can do so in our deci_platform integration tutorial <link>.\n",
        "\n",
        "Now that we saw how easy it is to train models using SuperGradients, lets see a more comprehensive tutorial on customizing the different components of training\n",
        "in our <walkkthrough tutorial>. For simplicity, we used a very limited subset of the abundant training hyperparameters SuperGradients has to <offer (link to hyperparams docs)>.\n"
      ],
      "metadata": {
        "collapsed": false,
        "pycharm": {
          "name": "#%% md\n"
        },
        "id": "j_vfTrDgOcOM"
      }
    },
    {
      "cell_type": "code",
      "source": [
        "print(sg_model.)"
      ],
      "metadata": {
        "id": "qPyEOVqOugnb"
      },
      "execution_count": null,
      "outputs": []
    }
  ],
  "metadata": {
    "kernelspec": {
      "display_name": "Python 3",
      "language": "python",
      "name": "python3"
    },
    "language_info": {
      "codemirror_mode": {
        "name": "ipython",
        "version": 2
      },
      "file_extension": ".py",
      "mimetype": "text/x-python",
      "name": "python",
      "nbconvert_exporter": "python",
      "pygments_lexer": "ipython2",
      "version": "2.7.6"
    },
    "colab": {
      "name": "quickstart.ipynb",
      "provenance": [],
      "collapsed_sections": []
    },
    "accelerator": "GPU",
    "widgets": {
      "application/vnd.jupyter.widget-state+json": {
        "c297ed070ba6491c828c2c45d575aded": {
          "model_module": "@jupyter-widgets/controls",
          "model_name": "HBoxModel",
          "model_module_version": "1.5.0",
          "state": {
            "_view_name": "HBoxView",
            "_dom_classes": [],
            "_model_name": "HBoxModel",
            "_view_module": "@jupyter-widgets/controls",
            "_model_module_version": "1.5.0",
            "_view_count": null,
            "_view_module_version": "1.5.0",
            "box_style": "",
            "layout": "IPY_MODEL_784eeba5feee4ea3b98773df456bb53e",
            "_model_module": "@jupyter-widgets/controls",
            "children": [
              "IPY_MODEL_9bf2aae599a04200a56925945bd584c9",
              "IPY_MODEL_9f40257537c546c1b7b7c3730daf735b",
              "IPY_MODEL_7aea81d6976b43a199e4c611a2d9a70e"
            ]
          }
        },
        "784eeba5feee4ea3b98773df456bb53e": {
          "model_module": "@jupyter-widgets/base",
          "model_name": "LayoutModel",
          "model_module_version": "1.2.0",
          "state": {
            "_view_name": "LayoutView",
            "grid_template_rows": null,
            "right": null,
            "justify_content": null,
            "_view_module": "@jupyter-widgets/base",
            "overflow": null,
            "_model_module_version": "1.2.0",
            "_view_count": null,
            "flex_flow": null,
            "width": null,
            "min_width": null,
            "border": null,
            "align_items": null,
            "bottom": null,
            "_model_module": "@jupyter-widgets/base",
            "top": null,
            "grid_column": null,
            "overflow_y": null,
            "overflow_x": null,
            "grid_auto_flow": null,
            "grid_area": null,
            "grid_template_columns": null,
            "flex": null,
            "_model_name": "LayoutModel",
            "justify_items": null,
            "grid_row": null,
            "max_height": null,
            "align_content": null,
            "visibility": null,
            "align_self": null,
            "height": null,
            "min_height": null,
            "padding": null,
            "grid_auto_rows": null,
            "grid_gap": null,
            "max_width": null,
            "order": null,
            "_view_module_version": "1.2.0",
            "grid_template_areas": null,
            "object_position": null,
            "object_fit": null,
            "grid_auto_columns": null,
            "margin": null,
            "display": null,
            "left": null
          }
        },
        "9bf2aae599a04200a56925945bd584c9": {
          "model_module": "@jupyter-widgets/controls",
          "model_name": "HTMLModel",
          "model_module_version": "1.5.0",
          "state": {
            "_view_name": "HTMLView",
            "style": "IPY_MODEL_f957e544b4114b5a965a234b4ad5ef1a",
            "_dom_classes": [],
            "description": "",
            "_model_name": "HTMLModel",
            "placeholder": "​",
            "_view_module": "@jupyter-widgets/controls",
            "_model_module_version": "1.5.0",
            "value": "",
            "_view_count": null,
            "_view_module_version": "1.5.0",
            "description_tooltip": null,
            "_model_module": "@jupyter-widgets/controls",
            "layout": "IPY_MODEL_78df37e5a44841c59374d78def2c03f0"
          }
        },
        "9f40257537c546c1b7b7c3730daf735b": {
          "model_module": "@jupyter-widgets/controls",
          "model_name": "FloatProgressModel",
          "model_module_version": "1.5.0",
          "state": {
            "_view_name": "ProgressView",
            "style": "IPY_MODEL_a86de67572de495089ec6b876690eecd",
            "_dom_classes": [],
            "description": "",
            "_model_name": "FloatProgressModel",
            "bar_style": "success",
            "max": 170498071,
            "_view_module": "@jupyter-widgets/controls",
            "_model_module_version": "1.5.0",
            "value": 170498071,
            "_view_count": null,
            "_view_module_version": "1.5.0",
            "orientation": "horizontal",
            "min": 0,
            "description_tooltip": null,
            "_model_module": "@jupyter-widgets/controls",
            "layout": "IPY_MODEL_1e1b2c2805cd458b82c30b93a70f39ea"
          }
        },
        "7aea81d6976b43a199e4c611a2d9a70e": {
          "model_module": "@jupyter-widgets/controls",
          "model_name": "HTMLModel",
          "model_module_version": "1.5.0",
          "state": {
            "_view_name": "HTMLView",
            "style": "IPY_MODEL_625c6672a9ad437cb54a3a41715f3c05",
            "_dom_classes": [],
            "description": "",
            "_model_name": "HTMLModel",
            "placeholder": "​",
            "_view_module": "@jupyter-widgets/controls",
            "_model_module_version": "1.5.0",
            "value": " 170499072/? [00:04&lt;00:00, 31038742.98it/s]",
            "_view_count": null,
            "_view_module_version": "1.5.0",
            "description_tooltip": null,
            "_model_module": "@jupyter-widgets/controls",
            "layout": "IPY_MODEL_962d8a20bf484b3197cba4868f752083"
          }
        },
        "f957e544b4114b5a965a234b4ad5ef1a": {
          "model_module": "@jupyter-widgets/controls",
          "model_name": "DescriptionStyleModel",
          "model_module_version": "1.5.0",
          "state": {
            "_view_name": "StyleView",
            "_model_name": "DescriptionStyleModel",
            "description_width": "",
            "_view_module": "@jupyter-widgets/base",
            "_model_module_version": "1.5.0",
            "_view_count": null,
            "_view_module_version": "1.2.0",
            "_model_module": "@jupyter-widgets/controls"
          }
        },
        "78df37e5a44841c59374d78def2c03f0": {
          "model_module": "@jupyter-widgets/base",
          "model_name": "LayoutModel",
          "model_module_version": "1.2.0",
          "state": {
            "_view_name": "LayoutView",
            "grid_template_rows": null,
            "right": null,
            "justify_content": null,
            "_view_module": "@jupyter-widgets/base",
            "overflow": null,
            "_model_module_version": "1.2.0",
            "_view_count": null,
            "flex_flow": null,
            "width": null,
            "min_width": null,
            "border": null,
            "align_items": null,
            "bottom": null,
            "_model_module": "@jupyter-widgets/base",
            "top": null,
            "grid_column": null,
            "overflow_y": null,
            "overflow_x": null,
            "grid_auto_flow": null,
            "grid_area": null,
            "grid_template_columns": null,
            "flex": null,
            "_model_name": "LayoutModel",
            "justify_items": null,
            "grid_row": null,
            "max_height": null,
            "align_content": null,
            "visibility": null,
            "align_self": null,
            "height": null,
            "min_height": null,
            "padding": null,
            "grid_auto_rows": null,
            "grid_gap": null,
            "max_width": null,
            "order": null,
            "_view_module_version": "1.2.0",
            "grid_template_areas": null,
            "object_position": null,
            "object_fit": null,
            "grid_auto_columns": null,
            "margin": null,
            "display": null,
            "left": null
          }
        },
        "a86de67572de495089ec6b876690eecd": {
          "model_module": "@jupyter-widgets/controls",
          "model_name": "ProgressStyleModel",
          "model_module_version": "1.5.0",
          "state": {
            "_view_name": "StyleView",
            "_model_name": "ProgressStyleModel",
            "description_width": "",
            "_view_module": "@jupyter-widgets/base",
            "_model_module_version": "1.5.0",
            "_view_count": null,
            "_view_module_version": "1.2.0",
            "bar_color": null,
            "_model_module": "@jupyter-widgets/controls"
          }
        },
        "1e1b2c2805cd458b82c30b93a70f39ea": {
          "model_module": "@jupyter-widgets/base",
          "model_name": "LayoutModel",
          "model_module_version": "1.2.0",
          "state": {
            "_view_name": "LayoutView",
            "grid_template_rows": null,
            "right": null,
            "justify_content": null,
            "_view_module": "@jupyter-widgets/base",
            "overflow": null,
            "_model_module_version": "1.2.0",
            "_view_count": null,
            "flex_flow": null,
            "width": null,
            "min_width": null,
            "border": null,
            "align_items": null,
            "bottom": null,
            "_model_module": "@jupyter-widgets/base",
            "top": null,
            "grid_column": null,
            "overflow_y": null,
            "overflow_x": null,
            "grid_auto_flow": null,
            "grid_area": null,
            "grid_template_columns": null,
            "flex": null,
            "_model_name": "LayoutModel",
            "justify_items": null,
            "grid_row": null,
            "max_height": null,
            "align_content": null,
            "visibility": null,
            "align_self": null,
            "height": null,
            "min_height": null,
            "padding": null,
            "grid_auto_rows": null,
            "grid_gap": null,
            "max_width": null,
            "order": null,
            "_view_module_version": "1.2.0",
            "grid_template_areas": null,
            "object_position": null,
            "object_fit": null,
            "grid_auto_columns": null,
            "margin": null,
            "display": null,
            "left": null
          }
        },
        "625c6672a9ad437cb54a3a41715f3c05": {
          "model_module": "@jupyter-widgets/controls",
          "model_name": "DescriptionStyleModel",
          "model_module_version": "1.5.0",
          "state": {
            "_view_name": "StyleView",
            "_model_name": "DescriptionStyleModel",
            "description_width": "",
            "_view_module": "@jupyter-widgets/base",
            "_model_module_version": "1.5.0",
            "_view_count": null,
            "_view_module_version": "1.2.0",
            "_model_module": "@jupyter-widgets/controls"
          }
        },
        "962d8a20bf484b3197cba4868f752083": {
          "model_module": "@jupyter-widgets/base",
          "model_name": "LayoutModel",
          "model_module_version": "1.2.0",
          "state": {
            "_view_name": "LayoutView",
            "grid_template_rows": null,
            "right": null,
            "justify_content": null,
            "_view_module": "@jupyter-widgets/base",
            "overflow": null,
            "_model_module_version": "1.2.0",
            "_view_count": null,
            "flex_flow": null,
            "width": null,
            "min_width": null,
            "border": null,
            "align_items": null,
            "bottom": null,
            "_model_module": "@jupyter-widgets/base",
            "top": null,
            "grid_column": null,
            "overflow_y": null,
            "overflow_x": null,
            "grid_auto_flow": null,
            "grid_area": null,
            "grid_template_columns": null,
            "flex": null,
            "_model_name": "LayoutModel",
            "justify_items": null,
            "grid_row": null,
            "max_height": null,
            "align_content": null,
            "visibility": null,
            "align_self": null,
            "height": null,
            "min_height": null,
            "padding": null,
            "grid_auto_rows": null,
            "grid_gap": null,
            "max_width": null,
            "order": null,
            "_view_module_version": "1.2.0",
            "grid_template_areas": null,
            "object_position": null,
            "object_fit": null,
            "grid_auto_columns": null,
            "margin": null,
            "display": null,
            "left": null
          }
        }
      }
    }
  },
  "nbformat": 4,
  "nbformat_minor": 0
}